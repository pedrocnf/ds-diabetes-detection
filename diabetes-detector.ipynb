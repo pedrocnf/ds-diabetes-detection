{
 "cells": [
  {
   "cell_type": "markdown",
   "metadata": {},
   "source": [
    "## ❤️‍🩹 HEART DISEASE DETECTOR ◯\n"
   ]
  },
  {
   "cell_type": "markdown",
   "metadata": {},
   "source": [
    "This database shows a set of information related to cardiac diseases, and a class representing if the subjects have or no any cardiac disease. \n",
    "\n",
    "Its importante to note that the database doesnt specify the disease, only if the subject haves it or not.\n",
    "\n",
    "\n",
    "We consider this databse inespecific for diagnosis, but importance to determine WHAT coontributes most to any cardiac disease (Feature Importance) 😷\n",
    "\n",
    "ref: https://www.kaggle.com/datasets/fedesoriano/heart-failure-prediction/data\n"
   ]
  },
  {
   "cell_type": "code",
   "execution_count": 19,
   "metadata": {},
   "outputs": [],
   "source": [
    "import pandas as pd\n",
    "import matplotlib.pyplot as plt\n",
    "from catboost import CatBoostClassifier, Pool, cv, metrics\n",
    "from sklearn.model_selection import train_test_split\n",
    "from sklearn.metrics import accuracy_score, RocCurveDisplay, confusion_matrix\n",
    "from sklearn.preprocessing import LabelEncoder\n",
    "from sklearn.preprocessing import OneHotEncoder\n",
    "from scipy.stats import chi2_contingency\n",
    "import scipy.stats as stats\n",
    "import shap\n",
    "import seaborn as sns\n",
    "import plotly.express as px\n",
    "\n",
    "from utils import *"
   ]
  },
  {
   "cell_type": "code",
   "execution_count": 4,
   "metadata": {},
   "outputs": [],
   "source": [
    "# Reading the heart disease database\n",
    "\n",
    "df = pd.read_csv(\"datasets/diabetes_prediction_dataset.csv\")"
   ]
  },
  {
   "cell_type": "markdown",
   "metadata": {},
   "source": [
    "Ok, what we have here? 🔎"
   ]
  },
  {
   "cell_type": "code",
   "execution_count": 5,
   "metadata": {},
   "outputs": [
    {
     "name": "stdout",
     "output_type": "stream",
     "text": [
      "<class 'pandas.core.frame.DataFrame'>\n",
      "RangeIndex: 100000 entries, 0 to 99999\n",
      "Data columns (total 9 columns):\n",
      " #   Column               Non-Null Count   Dtype  \n",
      "---  ------               --------------   -----  \n",
      " 0   gender               100000 non-null  object \n",
      " 1   age                  100000 non-null  float64\n",
      " 2   hypertension         100000 non-null  int64  \n",
      " 3   heart_disease        100000 non-null  int64  \n",
      " 4   smoking_history      100000 non-null  object \n",
      " 5   bmi                  100000 non-null  float64\n",
      " 6   HbA1c_level          100000 non-null  float64\n",
      " 7   blood_glucose_level  100000 non-null  int64  \n",
      " 8   diabetes             100000 non-null  int64  \n",
      "dtypes: float64(3), int64(4), object(2)\n",
      "memory usage: 6.9+ MB\n"
     ]
    }
   ],
   "source": [
    "df.info()"
   ]
  },
  {
   "cell_type": "markdown",
   "metadata": {},
   "source": [
    "We have features with \"object\" Dtype. We'll change this later to string to make possible to catboost use it."
   ]
  },
  {
   "cell_type": "markdown",
   "metadata": {},
   "source": [
    "How the data looks like? 🔎"
   ]
  },
  {
   "cell_type": "code",
   "execution_count": 6,
   "metadata": {},
   "outputs": [
    {
     "data": {
      "text/html": [
       "<div>\n",
       "<style scoped>\n",
       "    .dataframe tbody tr th:only-of-type {\n",
       "        vertical-align: middle;\n",
       "    }\n",
       "\n",
       "    .dataframe tbody tr th {\n",
       "        vertical-align: top;\n",
       "    }\n",
       "\n",
       "    .dataframe thead th {\n",
       "        text-align: right;\n",
       "    }\n",
       "</style>\n",
       "<table border=\"1\" class=\"dataframe\">\n",
       "  <thead>\n",
       "    <tr style=\"text-align: right;\">\n",
       "      <th></th>\n",
       "      <th>gender</th>\n",
       "      <th>age</th>\n",
       "      <th>hypertension</th>\n",
       "      <th>heart_disease</th>\n",
       "      <th>smoking_history</th>\n",
       "      <th>bmi</th>\n",
       "      <th>HbA1c_level</th>\n",
       "      <th>blood_glucose_level</th>\n",
       "      <th>diabetes</th>\n",
       "    </tr>\n",
       "  </thead>\n",
       "  <tbody>\n",
       "    <tr>\n",
       "      <th>0</th>\n",
       "      <td>Female</td>\n",
       "      <td>80.0</td>\n",
       "      <td>0</td>\n",
       "      <td>1</td>\n",
       "      <td>never</td>\n",
       "      <td>25.19</td>\n",
       "      <td>6.6</td>\n",
       "      <td>140</td>\n",
       "      <td>0</td>\n",
       "    </tr>\n",
       "    <tr>\n",
       "      <th>1</th>\n",
       "      <td>Female</td>\n",
       "      <td>54.0</td>\n",
       "      <td>0</td>\n",
       "      <td>0</td>\n",
       "      <td>No Info</td>\n",
       "      <td>27.32</td>\n",
       "      <td>6.6</td>\n",
       "      <td>80</td>\n",
       "      <td>0</td>\n",
       "    </tr>\n",
       "    <tr>\n",
       "      <th>2</th>\n",
       "      <td>Male</td>\n",
       "      <td>28.0</td>\n",
       "      <td>0</td>\n",
       "      <td>0</td>\n",
       "      <td>never</td>\n",
       "      <td>27.32</td>\n",
       "      <td>5.7</td>\n",
       "      <td>158</td>\n",
       "      <td>0</td>\n",
       "    </tr>\n",
       "  </tbody>\n",
       "</table>\n",
       "</div>"
      ],
      "text/plain": [
       "   gender   age  hypertension  heart_disease smoking_history    bmi  \\\n",
       "0  Female  80.0             0              1           never  25.19   \n",
       "1  Female  54.0             0              0         No Info  27.32   \n",
       "2    Male  28.0             0              0           never  27.32   \n",
       "\n",
       "   HbA1c_level  blood_glucose_level  diabetes  \n",
       "0          6.6                  140         0  \n",
       "1          6.6                   80         0  \n",
       "2          5.7                  158         0  "
      ]
     },
     "execution_count": 6,
     "metadata": {},
     "output_type": "execute_result"
    }
   ],
   "source": [
    "# How the data looks like?\n",
    "df.head(3)"
   ]
  },
  {
   "cell_type": "markdown",
   "metadata": {},
   "source": [
    "\n",
    "Let's see if there's anything missing 🗃️"
   ]
  },
  {
   "cell_type": "code",
   "execution_count": 7,
   "metadata": {},
   "outputs": [
    {
     "name": "stdout",
     "output_type": "stream",
     "text": [
      "Rows with missing data (qty): 0\n"
     ]
    }
   ],
   "source": [
    "# Lets see if there is missing data..\n",
    "\n",
    "missing_values_per_row = df.isnull().sum(axis=1)\n",
    "num_rows_with_missing_data = (missing_values_per_row > 0).sum()\n",
    "print(f'Rows with missing data (qty): {num_rows_with_missing_data}')\n"
   ]
  },
  {
   "cell_type": "code",
   "execution_count": 8,
   "metadata": {},
   "outputs": [],
   "source": [
    "# Change the data type 'object' to 'string' in order to process the data.\n",
    "\n",
    "for column in df.columns:\n",
    "    if df[column].dtype == 'object':\n",
    "        df[column] = df[column].astype(\"string\")"
   ]
  },
  {
   "cell_type": "markdown",
   "metadata": {},
   "source": [
    "Analyzing numeric features with boxplot 🔢"
   ]
  },
  {
   "cell_type": "code",
   "execution_count": 14,
   "metadata": {},
   "outputs": [],
   "source": [
    "categorical_string = ['gender','smoking_history']\n",
    "numeric = ['age','bmi', 'HbA1c_level', 'blood_glucose_level']"
   ]
  },
  {
   "cell_type": "code",
   "execution_count": 16,
   "metadata": {},
   "outputs": [
    {
     "data": {
      "image/png": "[encoded data removed]",
      "text/plain": [
       "<Figure size 800x600 with 4 Axes>"
      ]
     },
     "metadata": {},
     "output_type": "display_data"
    }
   ],
   "source": [
    "columns_to_plot = numeric\n",
    "\n",
    "num_columns = len(columns_to_plot)\n",
    "num_rows = (num_columns + 1) // 2  \n",
    "\n",
    "fig, axes = plt.subplots(num_rows, 2, figsize=(8, 6))\n",
    "\n",
    "axes = axes.flatten()\n",
    "\n",
    "for i, column in enumerate(columns_to_plot):\n",
    "    df.boxplot(column=column, ax=axes[i])\n",
    "    axes[i].set_title(f'Boxplot of {column}')\n",
    "\n",
    "plt.tight_layout()\n",
    "\n",
    "plt.show()\n"
   ]
  },
  {
   "cell_type": "code",
   "execution_count": 17,
   "metadata": {},
   "outputs": [
    {
     "data": {
      "image/png": "[encoded data removed]",
      "text/plain": [
       "<Figure size 800x600 with 4 Axes>"
      ]
     },
     "metadata": {},
     "output_type": "display_data"
    }
   ],
   "source": [
    "columns_to_plot = ['gender', 'hypertension', 'heart_disease', 'smoking_history']\n",
    "\n",
    "num_columns = len(columns_to_plot)\n",
    "num_rows = (num_columns + 1) // 2  \n",
    "\n",
    "fig, axes = plt.subplots(num_rows, 2, figsize=(8, 6))\n",
    "\n",
    "axes = axes.flatten()\n",
    "\n",
    "for i, column in enumerate(columns_to_plot):\n",
    "    counts = df[column].value_counts()\n",
    "    counts.plot(kind='bar', ax=axes[i])\n",
    "    axes[i].set_title(column)\n",
    "    axes[i].set_xlabel(column)\n",
    "    axes[i].set_ylabel('Qty')\n",
    "\n",
    "plt.tight_layout()\n",
    "\n",
    "plt.show()"
   ]
  },
  {
   "cell_type": "code",
   "execution_count": 18,
   "metadata": {},
   "outputs": [
    {
     "data": {
      "image/png": "[encoded data removed]",
      "text/plain": [
       "<Figure size 800x400 with 2 Axes>"
      ]
     },
     "metadata": {},
     "output_type": "display_data"
    }
   ],
   "source": [
    "columns_to_plot = ['HbA1c_level', 'blood_glucose_level']\n",
    "\n",
    "num_columns = len(columns_to_plot)\n",
    "num_rows = (num_columns + 1) // 2  \n",
    "\n",
    "fig, axes = plt.subplots(num_rows, 2, figsize=(8, 4))\n",
    "\n",
    "axes = axes.flatten()\n",
    "\n",
    "for i, column in enumerate(columns_to_plot):\n",
    "    df[column].plot(kind='hist', ax=axes[i], bins=20, edgecolor='black')\n",
    "    axes[i].set_title(column)\n",
    "    axes[i].set_xlabel(column)\n",
    "    axes[i].set_ylabel('Qty')\n",
    "\n",
    "plt.tight_layout()\n",
    "plt.show()"
   ]
  },
  {
   "cell_type": "markdown",
   "metadata": {},
   "source": [
    "\n",
    "Except for FastingBS, all features have relatively equal distributions across quartiles. In FastingBS, the data is distributed closer to the median, wich is 0."
   ]
  },
  {
   "cell_type": "markdown",
   "metadata": {},
   "source": [
    "Analyzing categorical (string) features with bars 🔤"
   ]
  },
  {
   "cell_type": "markdown",
   "metadata": {},
   "source": [
    "Notes:\n",
    " - Most of subjects base are cisgender man. 🤷🏻‍♂️\n",
    " - Classes (Heat Disease) are not unbalanced."
   ]
  },
  {
   "cell_type": "code",
   "execution_count": 20,
   "metadata": {},
   "outputs": [
    {
     "name": "stderr",
     "output_type": "stream",
     "text": [
      "`sparse` was renamed to `sparse_output` in version 1.2 and will be removed in 1.4. `sparse_output` is ignored unless you leave `sparse` to its default value.\n"
     ]
    }
   ],
   "source": [
    "encoder = OneHotEncoder(sparse=False)\n",
    "\n",
    "encoded_data = encoder.fit_transform(df[categorical_string])\n",
    "\n",
    "encoded_df = pd.DataFrame(encoded_data, columns=encoder.get_feature_names_out(categorical_string))"
   ]
  },
  {
   "cell_type": "code",
   "execution_count": 27,
   "metadata": {},
   "outputs": [],
   "source": [
    "df_encoded = pd.concat([encoded_df,df[numeric],df['diabetes']], axis = 1)"
   ]
  },
  {
   "cell_type": "code",
   "execution_count": 28,
   "metadata": {},
   "outputs": [
    {
     "data": {
      "text/html": [
       "<div>\n",
       "<style scoped>\n",
       "    .dataframe tbody tr th:only-of-type {\n",
       "        vertical-align: middle;\n",
       "    }\n",
       "\n",
       "    .dataframe tbody tr th {\n",
       "        vertical-align: top;\n",
       "    }\n",
       "\n",
       "    .dataframe thead th {\n",
       "        text-align: right;\n",
       "    }\n",
       "</style>\n",
       "<table border=\"1\" class=\"dataframe\">\n",
       "  <thead>\n",
       "    <tr style=\"text-align: right;\">\n",
       "      <th></th>\n",
       "      <th>gender_Female</th>\n",
       "      <th>gender_Male</th>\n",
       "      <th>gender_Other</th>\n",
       "      <th>smoking_history_No Info</th>\n",
       "      <th>smoking_history_current</th>\n",
       "      <th>smoking_history_ever</th>\n",
       "      <th>smoking_history_former</th>\n",
       "      <th>smoking_history_never</th>\n",
       "      <th>smoking_history_not current</th>\n",
       "      <th>age</th>\n",
       "      <th>bmi</th>\n",
       "      <th>HbA1c_level</th>\n",
       "      <th>blood_glucose_level</th>\n",
       "      <th>diabetes</th>\n",
       "    </tr>\n",
       "  </thead>\n",
       "  <tbody>\n",
       "    <tr>\n",
       "      <th>0</th>\n",
       "      <td>1.0</td>\n",
       "      <td>0.0</td>\n",
       "      <td>0.0</td>\n",
       "      <td>0.0</td>\n",
       "      <td>0.0</td>\n",
       "      <td>0.0</td>\n",
       "      <td>0.0</td>\n",
       "      <td>1.0</td>\n",
       "      <td>0.0</td>\n",
       "      <td>80.0</td>\n",
       "      <td>25.19</td>\n",
       "      <td>6.6</td>\n",
       "      <td>140</td>\n",
       "      <td>0</td>\n",
       "    </tr>\n",
       "    <tr>\n",
       "      <th>1</th>\n",
       "      <td>1.0</td>\n",
       "      <td>0.0</td>\n",
       "      <td>0.0</td>\n",
       "      <td>1.0</td>\n",
       "      <td>0.0</td>\n",
       "      <td>0.0</td>\n",
       "      <td>0.0</td>\n",
       "      <td>0.0</td>\n",
       "      <td>0.0</td>\n",
       "      <td>54.0</td>\n",
       "      <td>27.32</td>\n",
       "      <td>6.6</td>\n",
       "      <td>80</td>\n",
       "      <td>0</td>\n",
       "    </tr>\n",
       "    <tr>\n",
       "      <th>2</th>\n",
       "      <td>0.0</td>\n",
       "      <td>1.0</td>\n",
       "      <td>0.0</td>\n",
       "      <td>0.0</td>\n",
       "      <td>0.0</td>\n",
       "      <td>0.0</td>\n",
       "      <td>0.0</td>\n",
       "      <td>1.0</td>\n",
       "      <td>0.0</td>\n",
       "      <td>28.0</td>\n",
       "      <td>27.32</td>\n",
       "      <td>5.7</td>\n",
       "      <td>158</td>\n",
       "      <td>0</td>\n",
       "    </tr>\n",
       "    <tr>\n",
       "      <th>3</th>\n",
       "      <td>1.0</td>\n",
       "      <td>0.0</td>\n",
       "      <td>0.0</td>\n",
       "      <td>0.0</td>\n",
       "      <td>1.0</td>\n",
       "      <td>0.0</td>\n",
       "      <td>0.0</td>\n",
       "      <td>0.0</td>\n",
       "      <td>0.0</td>\n",
       "      <td>36.0</td>\n",
       "      <td>23.45</td>\n",
       "      <td>5.0</td>\n",
       "      <td>155</td>\n",
       "      <td>0</td>\n",
       "    </tr>\n",
       "    <tr>\n",
       "      <th>4</th>\n",
       "      <td>0.0</td>\n",
       "      <td>1.0</td>\n",
       "      <td>0.0</td>\n",
       "      <td>0.0</td>\n",
       "      <td>1.0</td>\n",
       "      <td>0.0</td>\n",
       "      <td>0.0</td>\n",
       "      <td>0.0</td>\n",
       "      <td>0.0</td>\n",
       "      <td>76.0</td>\n",
       "      <td>20.14</td>\n",
       "      <td>4.8</td>\n",
       "      <td>155</td>\n",
       "      <td>0</td>\n",
       "    </tr>\n",
       "    <tr>\n",
       "      <th>...</th>\n",
       "      <td>...</td>\n",
       "      <td>...</td>\n",
       "      <td>...</td>\n",
       "      <td>...</td>\n",
       "      <td>...</td>\n",
       "      <td>...</td>\n",
       "      <td>...</td>\n",
       "      <td>...</td>\n",
       "      <td>...</td>\n",
       "      <td>...</td>\n",
       "      <td>...</td>\n",
       "      <td>...</td>\n",
       "      <td>...</td>\n",
       "      <td>...</td>\n",
       "    </tr>\n",
       "    <tr>\n",
       "      <th>99995</th>\n",
       "      <td>1.0</td>\n",
       "      <td>0.0</td>\n",
       "      <td>0.0</td>\n",
       "      <td>1.0</td>\n",
       "      <td>0.0</td>\n",
       "      <td>0.0</td>\n",
       "      <td>0.0</td>\n",
       "      <td>0.0</td>\n",
       "      <td>0.0</td>\n",
       "      <td>80.0</td>\n",
       "      <td>27.32</td>\n",
       "      <td>6.2</td>\n",
       "      <td>90</td>\n",
       "      <td>0</td>\n",
       "    </tr>\n",
       "    <tr>\n",
       "      <th>99996</th>\n",
       "      <td>1.0</td>\n",
       "      <td>0.0</td>\n",
       "      <td>0.0</td>\n",
       "      <td>1.0</td>\n",
       "      <td>0.0</td>\n",
       "      <td>0.0</td>\n",
       "      <td>0.0</td>\n",
       "      <td>0.0</td>\n",
       "      <td>0.0</td>\n",
       "      <td>2.0</td>\n",
       "      <td>17.37</td>\n",
       "      <td>6.5</td>\n",
       "      <td>100</td>\n",
       "      <td>0</td>\n",
       "    </tr>\n",
       "    <tr>\n",
       "      <th>99997</th>\n",
       "      <td>0.0</td>\n",
       "      <td>1.0</td>\n",
       "      <td>0.0</td>\n",
       "      <td>0.0</td>\n",
       "      <td>0.0</td>\n",
       "      <td>0.0</td>\n",
       "      <td>1.0</td>\n",
       "      <td>0.0</td>\n",
       "      <td>0.0</td>\n",
       "      <td>66.0</td>\n",
       "      <td>27.83</td>\n",
       "      <td>5.7</td>\n",
       "      <td>155</td>\n",
       "      <td>0</td>\n",
       "    </tr>\n",
       "    <tr>\n",
       "      <th>99998</th>\n",
       "      <td>1.0</td>\n",
       "      <td>0.0</td>\n",
       "      <td>0.0</td>\n",
       "      <td>0.0</td>\n",
       "      <td>0.0</td>\n",
       "      <td>0.0</td>\n",
       "      <td>0.0</td>\n",
       "      <td>1.0</td>\n",
       "      <td>0.0</td>\n",
       "      <td>24.0</td>\n",
       "      <td>35.42</td>\n",
       "      <td>4.0</td>\n",
       "      <td>100</td>\n",
       "      <td>0</td>\n",
       "    </tr>\n",
       "    <tr>\n",
       "      <th>99999</th>\n",
       "      <td>1.0</td>\n",
       "      <td>0.0</td>\n",
       "      <td>0.0</td>\n",
       "      <td>0.0</td>\n",
       "      <td>1.0</td>\n",
       "      <td>0.0</td>\n",
       "      <td>0.0</td>\n",
       "      <td>0.0</td>\n",
       "      <td>0.0</td>\n",
       "      <td>57.0</td>\n",
       "      <td>22.43</td>\n",
       "      <td>6.6</td>\n",
       "      <td>90</td>\n",
       "      <td>0</td>\n",
       "    </tr>\n",
       "  </tbody>\n",
       "</table>\n",
       "<p>100000 rows × 14 columns</p>\n",
       "</div>"
      ],
      "text/plain": [
       "       gender_Female  gender_Male  gender_Other  smoking_history_No Info  \\\n",
       "0                1.0          0.0           0.0                      0.0   \n",
       "1                1.0          0.0           0.0                      1.0   \n",
       "2                0.0          1.0           0.0                      0.0   \n",
       "3                1.0          0.0           0.0                      0.0   \n",
       "4                0.0          1.0           0.0                      0.0   \n",
       "...              ...          ...           ...                      ...   \n",
       "99995            1.0          0.0           0.0                      1.0   \n",
       "99996            1.0          0.0           0.0                      1.0   \n",
       "99997            0.0          1.0           0.0                      0.0   \n",
       "99998            1.0          0.0           0.0                      0.0   \n",
       "99999            1.0          0.0           0.0                      0.0   \n",
       "\n",
       "       smoking_history_current  smoking_history_ever  smoking_history_former  \\\n",
       "0                          0.0                   0.0                     0.0   \n",
       "1                          0.0                   0.0                     0.0   \n",
       "2                          0.0                   0.0                     0.0   \n",
       "3                          1.0                   0.0                     0.0   \n",
       "4                          1.0                   0.0                     0.0   \n",
       "...                        ...                   ...                     ...   \n",
       "99995                      0.0                   0.0                     0.0   \n",
       "99996                      0.0                   0.0                     0.0   \n",
       "99997                      0.0                   0.0                     1.0   \n",
       "99998                      0.0                   0.0                     0.0   \n",
       "99999                      1.0                   0.0                     0.0   \n",
       "\n",
       "       smoking_history_never  smoking_history_not current   age    bmi  \\\n",
       "0                        1.0                          0.0  80.0  25.19   \n",
       "1                        0.0                          0.0  54.0  27.32   \n",
       "2                        1.0                          0.0  28.0  27.32   \n",
       "3                        0.0                          0.0  36.0  23.45   \n",
       "4                        0.0                          0.0  76.0  20.14   \n",
       "...                      ...                          ...   ...    ...   \n",
       "99995                    0.0                          0.0  80.0  27.32   \n",
       "99996                    0.0                          0.0   2.0  17.37   \n",
       "99997                    0.0                          0.0  66.0  27.83   \n",
       "99998                    1.0                          0.0  24.0  35.42   \n",
       "99999                    0.0                          0.0  57.0  22.43   \n",
       "\n",
       "       HbA1c_level  blood_glucose_level  diabetes  \n",
       "0              6.6                  140         0  \n",
       "1              6.6                   80         0  \n",
       "2              5.7                  158         0  \n",
       "3              5.0                  155         0  \n",
       "4              4.8                  155         0  \n",
       "...            ...                  ...       ...  \n",
       "99995          6.2                   90         0  \n",
       "99996          6.5                  100         0  \n",
       "99997          5.7                  155         0  \n",
       "99998          4.0                  100         0  \n",
       "99999          6.6                   90         0  \n",
       "\n",
       "[100000 rows x 14 columns]"
      ]
     },
     "execution_count": 28,
     "metadata": {},
     "output_type": "execute_result"
    }
   ],
   "source": [
    "df_encoded "
   ]
  },
  {
   "cell_type": "markdown",
   "metadata": {},
   "source": [
    "Checking if any of the numeric data are normally-distributed, in order to allow further analysis"
   ]
  },
  {
   "cell_type": "code",
   "execution_count": 29,
   "metadata": {},
   "outputs": [
    {
     "name": "stderr",
     "output_type": "stream",
     "text": [
      "p-value may not be accurate for N > 5000.\n"
     ]
    },
    {
     "data": {
      "text/html": [
       "<div>\n",
       "<style scoped>\n",
       "    .dataframe tbody tr th:only-of-type {\n",
       "        vertical-align: middle;\n",
       "    }\n",
       "\n",
       "    .dataframe tbody tr th {\n",
       "        vertical-align: top;\n",
       "    }\n",
       "\n",
       "    .dataframe thead th {\n",
       "        text-align: right;\n",
       "    }\n",
       "</style>\n",
       "<table border=\"1\" class=\"dataframe\">\n",
       "  <thead>\n",
       "    <tr style=\"text-align: right;\">\n",
       "      <th></th>\n",
       "      <th>Coluna</th>\n",
       "      <th>p_valor</th>\n",
       "      <th>Normal?</th>\n",
       "    </tr>\n",
       "  </thead>\n",
       "  <tbody>\n",
       "    <tr>\n",
       "      <th>0</th>\n",
       "      <td>gender_Female</td>\n",
       "      <td>0.0</td>\n",
       "      <td>False</td>\n",
       "    </tr>\n",
       "    <tr>\n",
       "      <th>1</th>\n",
       "      <td>gender_Male</td>\n",
       "      <td>0.0</td>\n",
       "      <td>False</td>\n",
       "    </tr>\n",
       "    <tr>\n",
       "      <th>2</th>\n",
       "      <td>gender_Other</td>\n",
       "      <td>0.0</td>\n",
       "      <td>False</td>\n",
       "    </tr>\n",
       "    <tr>\n",
       "      <th>3</th>\n",
       "      <td>smoking_history_No Info</td>\n",
       "      <td>0.0</td>\n",
       "      <td>False</td>\n",
       "    </tr>\n",
       "    <tr>\n",
       "      <th>4</th>\n",
       "      <td>smoking_history_current</td>\n",
       "      <td>0.0</td>\n",
       "      <td>False</td>\n",
       "    </tr>\n",
       "    <tr>\n",
       "      <th>5</th>\n",
       "      <td>smoking_history_ever</td>\n",
       "      <td>0.0</td>\n",
       "      <td>False</td>\n",
       "    </tr>\n",
       "    <tr>\n",
       "      <th>6</th>\n",
       "      <td>smoking_history_former</td>\n",
       "      <td>0.0</td>\n",
       "      <td>False</td>\n",
       "    </tr>\n",
       "    <tr>\n",
       "      <th>7</th>\n",
       "      <td>smoking_history_never</td>\n",
       "      <td>0.0</td>\n",
       "      <td>False</td>\n",
       "    </tr>\n",
       "    <tr>\n",
       "      <th>8</th>\n",
       "      <td>smoking_history_not current</td>\n",
       "      <td>0.0</td>\n",
       "      <td>False</td>\n",
       "    </tr>\n",
       "    <tr>\n",
       "      <th>9</th>\n",
       "      <td>age</td>\n",
       "      <td>0.0</td>\n",
       "      <td>False</td>\n",
       "    </tr>\n",
       "    <tr>\n",
       "      <th>10</th>\n",
       "      <td>bmi</td>\n",
       "      <td>0.0</td>\n",
       "      <td>False</td>\n",
       "    </tr>\n",
       "    <tr>\n",
       "      <th>11</th>\n",
       "      <td>HbA1c_level</td>\n",
       "      <td>0.0</td>\n",
       "      <td>False</td>\n",
       "    </tr>\n",
       "    <tr>\n",
       "      <th>12</th>\n",
       "      <td>blood_glucose_level</td>\n",
       "      <td>0.0</td>\n",
       "      <td>False</td>\n",
       "    </tr>\n",
       "    <tr>\n",
       "      <th>13</th>\n",
       "      <td>diabetes</td>\n",
       "      <td>0.0</td>\n",
       "      <td>False</td>\n",
       "    </tr>\n",
       "  </tbody>\n",
       "</table>\n",
       "</div>"
      ],
      "text/plain": [
       "                         Coluna  p_valor  Normal?\n",
       "0                 gender_Female      0.0    False\n",
       "1                   gender_Male      0.0    False\n",
       "2                  gender_Other      0.0    False\n",
       "3       smoking_history_No Info      0.0    False\n",
       "4       smoking_history_current      0.0    False\n",
       "5          smoking_history_ever      0.0    False\n",
       "6        smoking_history_former      0.0    False\n",
       "7         smoking_history_never      0.0    False\n",
       "8   smoking_history_not current      0.0    False\n",
       "9                           age      0.0    False\n",
       "10                          bmi      0.0    False\n",
       "11                  HbA1c_level      0.0    False\n",
       "12          blood_glucose_level      0.0    False\n",
       "13                     diabetes      0.0    False"
      ]
     },
     "execution_count": 29,
     "metadata": {},
     "output_type": "execute_result"
    }
   ],
   "source": [
    "normality_test(df_encoded , df_encoded.columns)"
   ]
  },
  {
   "cell_type": "markdown",
   "metadata": {},
   "source": [
    "Not normally-distributed data here."
   ]
  },
  {
   "cell_type": "markdown",
   "metadata": {},
   "source": [
    "Now we'll see if there is significant differences between the data of the classes."
   ]
  },
  {
   "cell_type": "code",
   "execution_count": 31,
   "metadata": {},
   "outputs": [
    {
     "name": "stderr",
     "output_type": "stream",
     "text": [
      "Precision loss occurred in moment calculation due to catastrophic cancellation. This occurs when the data are nearly identical. Results may be unreliable.\n"
     ]
    },
    {
     "data": {
      "text/html": [
       "<div>\n",
       "<style scoped>\n",
       "    .dataframe tbody tr th:only-of-type {\n",
       "        vertical-align: middle;\n",
       "    }\n",
       "\n",
       "    .dataframe tbody tr th {\n",
       "        vertical-align: top;\n",
       "    }\n",
       "\n",
       "    .dataframe thead th {\n",
       "        text-align: right;\n",
       "    }\n",
       "</style>\n",
       "<table border=\"1\" class=\"dataframe\">\n",
       "  <thead>\n",
       "    <tr style=\"text-align: right;\">\n",
       "      <th></th>\n",
       "      <th>Coluna</th>\n",
       "      <th>p_valor</th>\n",
       "      <th>Different?</th>\n",
       "    </tr>\n",
       "  </thead>\n",
       "  <tbody>\n",
       "    <tr>\n",
       "      <th>0</th>\n",
       "      <td>gender_Female</td>\n",
       "      <td>1.517997e-32</td>\n",
       "      <td>False</td>\n",
       "    </tr>\n",
       "    <tr>\n",
       "      <th>1</th>\n",
       "      <td>gender_Male</td>\n",
       "      <td>9.860755e-33</td>\n",
       "      <td>False</td>\n",
       "    </tr>\n",
       "    <tr>\n",
       "      <th>2</th>\n",
       "      <td>gender_Other</td>\n",
       "      <td>1.959368e-01</td>\n",
       "      <td>True</td>\n",
       "    </tr>\n",
       "    <tr>\n",
       "      <th>3</th>\n",
       "      <td>smoking_history_No Info</td>\n",
       "      <td>0.000000e+00</td>\n",
       "      <td>False</td>\n",
       "    </tr>\n",
       "    <tr>\n",
       "      <th>4</th>\n",
       "      <td>smoking_history_current</td>\n",
       "      <td>5.634715e-10</td>\n",
       "      <td>False</td>\n",
       "    </tr>\n",
       "    <tr>\n",
       "      <th>5</th>\n",
       "      <td>smoking_history_ever</td>\n",
       "      <td>2.619831e-14</td>\n",
       "      <td>False</td>\n",
       "    </tr>\n",
       "    <tr>\n",
       "      <th>6</th>\n",
       "      <td>smoking_history_former</td>\n",
       "      <td>1.636498e-211</td>\n",
       "      <td>False</td>\n",
       "    </tr>\n",
       "    <tr>\n",
       "      <th>7</th>\n",
       "      <td>smoking_history_never</td>\n",
       "      <td>6.463554e-18</td>\n",
       "      <td>False</td>\n",
       "    </tr>\n",
       "    <tr>\n",
       "      <th>8</th>\n",
       "      <td>smoking_history_not current</td>\n",
       "      <td>5.483437e-11</td>\n",
       "      <td>False</td>\n",
       "    </tr>\n",
       "    <tr>\n",
       "      <th>9</th>\n",
       "      <td>age</td>\n",
       "      <td>0.000000e+00</td>\n",
       "      <td>False</td>\n",
       "    </tr>\n",
       "    <tr>\n",
       "      <th>10</th>\n",
       "      <td>bmi</td>\n",
       "      <td>0.000000e+00</td>\n",
       "      <td>False</td>\n",
       "    </tr>\n",
       "    <tr>\n",
       "      <th>11</th>\n",
       "      <td>HbA1c_level</td>\n",
       "      <td>0.000000e+00</td>\n",
       "      <td>False</td>\n",
       "    </tr>\n",
       "    <tr>\n",
       "      <th>12</th>\n",
       "      <td>blood_glucose_level</td>\n",
       "      <td>0.000000e+00</td>\n",
       "      <td>False</td>\n",
       "    </tr>\n",
       "    <tr>\n",
       "      <th>13</th>\n",
       "      <td>diabetes</td>\n",
       "      <td>0.000000e+00</td>\n",
       "      <td>False</td>\n",
       "    </tr>\n",
       "  </tbody>\n",
       "</table>\n",
       "</div>"
      ],
      "text/plain": [
       "                         Coluna        p_valor  Different?\n",
       "0                 gender_Female   1.517997e-32       False\n",
       "1                   gender_Male   9.860755e-33       False\n",
       "2                  gender_Other   1.959368e-01        True\n",
       "3       smoking_history_No Info   0.000000e+00       False\n",
       "4       smoking_history_current   5.634715e-10       False\n",
       "5          smoking_history_ever   2.619831e-14       False\n",
       "6        smoking_history_former  1.636498e-211       False\n",
       "7         smoking_history_never   6.463554e-18       False\n",
       "8   smoking_history_not current   5.483437e-11       False\n",
       "9                           age   0.000000e+00       False\n",
       "10                          bmi   0.000000e+00       False\n",
       "11                  HbA1c_level   0.000000e+00       False\n",
       "12          blood_glucose_level   0.000000e+00       False\n",
       "13                     diabetes   0.000000e+00       False"
      ]
     },
     "execution_count": 31,
     "metadata": {},
     "output_type": "execute_result"
    }
   ],
   "source": [
    "df_class_0 = df_encoded[df_encoded['diabetes'] == 0]\n",
    "df_class_1 = df_encoded[df_encoded['diabetes'] == 1]\n",
    "\n",
    "differences_test(df_class_0, df_class_1, df_encoded.columns)"
   ]
  },
  {
   "cell_type": "markdown",
   "metadata": {},
   "source": [
    "The numeric data are not statistically different between classes. Here is a attention point to the modelling quality."
   ]
  },
  {
   "cell_type": "markdown",
   "metadata": {},
   "source": [
    "Searching for similarities between categorical features"
   ]
  },
  {
   "cell_type": "code",
   "execution_count": 32,
   "metadata": {},
   "outputs": [
    {
     "name": "stdout",
     "output_type": "stream",
     "text": [
      "Chi-Square Statistics: 500000.0\n",
      "p_value: 0.4977393347182003\n",
      "There is NO statistically significant association between the variables.\n"
     ]
    }
   ],
   "source": [
    "contingency_table = pd.DataFrame()\n",
    "\n",
    "for column in df.columns:\n",
    "    if df[column].dtype == 'string':\n",
    "        contingency_table = pd.crosstab(df[column], df.index, rownames=[column])\n",
    "\n",
    "chi2, p, _, _ = chi2_contingency(contingency_table)\n",
    "\n",
    "print(f\"Chi-Square Statistics: {chi2}\")\n",
    "print(f\"p_value: {p}\")\n",
    "\n",
    "alpha = 0.05  \n",
    "if p < alpha:\n",
    "    print(\"There is a statistically significant association between the variables.\")\n",
    "else:\n",
    "    print(\"There is NO statistically significant association between the variables.\")"
   ]
  },
  {
   "cell_type": "markdown",
   "metadata": {},
   "source": [
    "The categorical data being not associated it's a good signal for the modelling!"
   ]
  },
  {
   "cell_type": "markdown",
   "metadata": {},
   "source": [
    "Finally, lets see if the numerica data are correlated."
   ]
  },
  {
   "cell_type": "code",
   "execution_count": 38,
   "metadata": {},
   "outputs": [
    {
     "data": {
      "text/html": [
       "<div>\n",
       "<style scoped>\n",
       "    .dataframe tbody tr th:only-of-type {\n",
       "        vertical-align: middle;\n",
       "    }\n",
       "\n",
       "    .dataframe tbody tr th {\n",
       "        vertical-align: top;\n",
       "    }\n",
       "\n",
       "    .dataframe thead th {\n",
       "        text-align: right;\n",
       "    }\n",
       "</style>\n",
       "<table border=\"1\" class=\"dataframe\">\n",
       "  <thead>\n",
       "    <tr style=\"text-align: right;\">\n",
       "      <th></th>\n",
       "      <th>gender_Female</th>\n",
       "      <th>gender_Male</th>\n",
       "      <th>gender_Other</th>\n",
       "      <th>smoking_history_No Info</th>\n",
       "      <th>smoking_history_current</th>\n",
       "      <th>smoking_history_ever</th>\n",
       "      <th>smoking_history_former</th>\n",
       "      <th>smoking_history_never</th>\n",
       "      <th>smoking_history_not current</th>\n",
       "      <th>age</th>\n",
       "      <th>bmi</th>\n",
       "      <th>HbA1c_level</th>\n",
       "      <th>blood_glucose_level</th>\n",
       "      <th>diabetes</th>\n",
       "    </tr>\n",
       "  </thead>\n",
       "  <tbody>\n",
       "    <tr>\n",
       "      <th>gender_Female</th>\n",
       "      <td>1.000000</td>\n",
       "      <td>-0.999629</td>\n",
       "      <td>-0.015948</td>\n",
       "      <td>-0.053810</td>\n",
       "      <td>-0.026517</td>\n",
       "      <td>-0.011019</td>\n",
       "      <td>-0.048927</td>\n",
       "      <td>0.098682</td>\n",
       "      <td>0.011419</td>\n",
       "      <td>0.030480</td>\n",
       "      <td>0.023016</td>\n",
       "      <td>-0.020015</td>\n",
       "      <td>-0.017200</td>\n",
       "      <td>-0.037553</td>\n",
       "    </tr>\n",
       "    <tr>\n",
       "      <th>gender_Male</th>\n",
       "      <td>-0.999629</td>\n",
       "      <td>1.000000</td>\n",
       "      <td>-0.011285</td>\n",
       "      <td>0.053833</td>\n",
       "      <td>0.026636</td>\n",
       "      <td>0.010991</td>\n",
       "      <td>0.049048</td>\n",
       "      <td>-0.098547</td>\n",
       "      <td>-0.011985</td>\n",
       "      <td>-0.030282</td>\n",
       "      <td>-0.023021</td>\n",
       "      <td>0.020058</td>\n",
       "      <td>0.017189</td>\n",
       "      <td>0.037666</td>\n",
       "    </tr>\n",
       "    <tr>\n",
       "      <th>gender_Other</th>\n",
       "      <td>-0.015948</td>\n",
       "      <td>-0.011285</td>\n",
       "      <td>1.000000</td>\n",
       "      <td>-0.000695</td>\n",
       "      <td>-0.004293</td>\n",
       "      <td>0.001062</td>\n",
       "      <td>-0.004310</td>\n",
       "      <td>-0.005181</td>\n",
       "      <td>0.020760</td>\n",
       "      <td>-0.007348</td>\n",
       "      <td>0.000119</td>\n",
       "      <td>-0.001528</td>\n",
       "      <td>0.000457</td>\n",
       "      <td>-0.004090</td>\n",
       "    </tr>\n",
       "    <tr>\n",
       "      <th>smoking_history_No Info</th>\n",
       "      <td>-0.053810</td>\n",
       "      <td>0.053833</td>\n",
       "      <td>-0.000695</td>\n",
       "      <td>1.000000</td>\n",
       "      <td>-0.239002</td>\n",
       "      <td>-0.152562</td>\n",
       "      <td>-0.239938</td>\n",
       "      <td>-0.549299</td>\n",
       "      <td>-0.196099</td>\n",
       "      <td>-0.276945</td>\n",
       "      <td>-0.222553</td>\n",
       "      <td>-0.045979</td>\n",
       "      <td>-0.051635</td>\n",
       "      <td>-0.118939</td>\n",
       "    </tr>\n",
       "    <tr>\n",
       "      <th>smoking_history_current</th>\n",
       "      <td>-0.026517</td>\n",
       "      <td>0.026636</td>\n",
       "      <td>-0.004293</td>\n",
       "      <td>-0.239002</td>\n",
       "      <td>1.000000</td>\n",
       "      <td>-0.065343</td>\n",
       "      <td>-0.102766</td>\n",
       "      <td>-0.235267</td>\n",
       "      <td>-0.083990</td>\n",
       "      <td>0.030946</td>\n",
       "      <td>0.053617</td>\n",
       "      <td>0.006123</td>\n",
       "      <td>0.012447</td>\n",
       "      <td>0.019606</td>\n",
       "    </tr>\n",
       "    <tr>\n",
       "      <th>smoking_history_ever</th>\n",
       "      <td>-0.011019</td>\n",
       "      <td>0.010991</td>\n",
       "      <td>0.001062</td>\n",
       "      <td>-0.152562</td>\n",
       "      <td>-0.065343</td>\n",
       "      <td>1.000000</td>\n",
       "      <td>-0.065598</td>\n",
       "      <td>-0.150177</td>\n",
       "      <td>-0.053613</td>\n",
       "      <td>0.065768</td>\n",
       "      <td>0.044343</td>\n",
       "      <td>0.009655</td>\n",
       "      <td>0.006267</td>\n",
       "      <td>0.024080</td>\n",
       "    </tr>\n",
       "    <tr>\n",
       "      <th>smoking_history_former</th>\n",
       "      <td>-0.048927</td>\n",
       "      <td>0.049048</td>\n",
       "      <td>-0.004310</td>\n",
       "      <td>-0.239938</td>\n",
       "      <td>-0.102766</td>\n",
       "      <td>-0.065598</td>\n",
       "      <td>1.000000</td>\n",
       "      <td>-0.236187</td>\n",
       "      <td>-0.084319</td>\n",
       "      <td>0.216481</td>\n",
       "      <td>0.111312</td>\n",
       "      <td>0.037306</td>\n",
       "      <td>0.040688</td>\n",
       "      <td>0.097917</td>\n",
       "    </tr>\n",
       "    <tr>\n",
       "      <th>smoking_history_never</th>\n",
       "      <td>0.098682</td>\n",
       "      <td>-0.098547</td>\n",
       "      <td>-0.005181</td>\n",
       "      <td>-0.549299</td>\n",
       "      <td>-0.235267</td>\n",
       "      <td>-0.150177</td>\n",
       "      <td>-0.236187</td>\n",
       "      <td>1.000000</td>\n",
       "      <td>-0.193034</td>\n",
       "      <td>0.065498</td>\n",
       "      <td>0.086849</td>\n",
       "      <td>0.010684</td>\n",
       "      <td>0.012475</td>\n",
       "      <td>0.027267</td>\n",
       "    </tr>\n",
       "    <tr>\n",
       "      <th>smoking_history_not current</th>\n",
       "      <td>0.011419</td>\n",
       "      <td>-0.011985</td>\n",
       "      <td>0.020760</td>\n",
       "      <td>-0.196099</td>\n",
       "      <td>-0.083990</td>\n",
       "      <td>-0.053613</td>\n",
       "      <td>-0.084319</td>\n",
       "      <td>-0.193034</td>\n",
       "      <td>1.000000</td>\n",
       "      <td>0.067663</td>\n",
       "      <td>0.034979</td>\n",
       "      <td>0.009830</td>\n",
       "      <td>0.008613</td>\n",
       "      <td>0.020734</td>\n",
       "    </tr>\n",
       "    <tr>\n",
       "      <th>age</th>\n",
       "      <td>0.030480</td>\n",
       "      <td>-0.030282</td>\n",
       "      <td>-0.007348</td>\n",
       "      <td>-0.276945</td>\n",
       "      <td>0.030946</td>\n",
       "      <td>0.065768</td>\n",
       "      <td>0.216481</td>\n",
       "      <td>0.065498</td>\n",
       "      <td>0.067663</td>\n",
       "      <td>1.000000</td>\n",
       "      <td>0.337396</td>\n",
       "      <td>0.101354</td>\n",
       "      <td>0.110672</td>\n",
       "      <td>0.258008</td>\n",
       "    </tr>\n",
       "    <tr>\n",
       "      <th>bmi</th>\n",
       "      <td>0.023016</td>\n",
       "      <td>-0.023021</td>\n",
       "      <td>0.000119</td>\n",
       "      <td>-0.222553</td>\n",
       "      <td>0.053617</td>\n",
       "      <td>0.044343</td>\n",
       "      <td>0.111312</td>\n",
       "      <td>0.086849</td>\n",
       "      <td>0.034979</td>\n",
       "      <td>0.337396</td>\n",
       "      <td>1.000000</td>\n",
       "      <td>0.082997</td>\n",
       "      <td>0.091261</td>\n",
       "      <td>0.214357</td>\n",
       "    </tr>\n",
       "    <tr>\n",
       "      <th>HbA1c_level</th>\n",
       "      <td>-0.020015</td>\n",
       "      <td>0.020058</td>\n",
       "      <td>-0.001528</td>\n",
       "      <td>-0.045979</td>\n",
       "      <td>0.006123</td>\n",
       "      <td>0.009655</td>\n",
       "      <td>0.037306</td>\n",
       "      <td>0.010684</td>\n",
       "      <td>0.009830</td>\n",
       "      <td>0.101354</td>\n",
       "      <td>0.082997</td>\n",
       "      <td>1.000000</td>\n",
       "      <td>0.166733</td>\n",
       "      <td>0.400660</td>\n",
       "    </tr>\n",
       "    <tr>\n",
       "      <th>blood_glucose_level</th>\n",
       "      <td>-0.017200</td>\n",
       "      <td>0.017189</td>\n",
       "      <td>0.000457</td>\n",
       "      <td>-0.051635</td>\n",
       "      <td>0.012447</td>\n",
       "      <td>0.006267</td>\n",
       "      <td>0.040688</td>\n",
       "      <td>0.012475</td>\n",
       "      <td>0.008613</td>\n",
       "      <td>0.110672</td>\n",
       "      <td>0.091261</td>\n",
       "      <td>0.166733</td>\n",
       "      <td>1.000000</td>\n",
       "      <td>0.419558</td>\n",
       "    </tr>\n",
       "    <tr>\n",
       "      <th>diabetes</th>\n",
       "      <td>-0.037553</td>\n",
       "      <td>0.037666</td>\n",
       "      <td>-0.004090</td>\n",
       "      <td>-0.118939</td>\n",
       "      <td>0.019606</td>\n",
       "      <td>0.024080</td>\n",
       "      <td>0.097917</td>\n",
       "      <td>0.027267</td>\n",
       "      <td>0.020734</td>\n",
       "      <td>0.258008</td>\n",
       "      <td>0.214357</td>\n",
       "      <td>0.400660</td>\n",
       "      <td>0.419558</td>\n",
       "      <td>1.000000</td>\n",
       "    </tr>\n",
       "  </tbody>\n",
       "</table>\n",
       "</div>"
      ],
      "text/plain": [
       "                             gender_Female  gender_Male  gender_Other  \\\n",
       "gender_Female                     1.000000    -0.999629     -0.015948   \n",
       "gender_Male                      -0.999629     1.000000     -0.011285   \n",
       "gender_Other                     -0.015948    -0.011285      1.000000   \n",
       "smoking_history_No Info          -0.053810     0.053833     -0.000695   \n",
       "smoking_history_current          -0.026517     0.026636     -0.004293   \n",
       "smoking_history_ever             -0.011019     0.010991      0.001062   \n",
       "smoking_history_former           -0.048927     0.049048     -0.004310   \n",
       "smoking_history_never             0.098682    -0.098547     -0.005181   \n",
       "smoking_history_not current       0.011419    -0.011985      0.020760   \n",
       "age                               0.030480    -0.030282     -0.007348   \n",
       "bmi                               0.023016    -0.023021      0.000119   \n",
       "HbA1c_level                      -0.020015     0.020058     -0.001528   \n",
       "blood_glucose_level              -0.017200     0.017189      0.000457   \n",
       "diabetes                         -0.037553     0.037666     -0.004090   \n",
       "\n",
       "                             smoking_history_No Info  smoking_history_current  \\\n",
       "gender_Female                              -0.053810                -0.026517   \n",
       "gender_Male                                 0.053833                 0.026636   \n",
       "gender_Other                               -0.000695                -0.004293   \n",
       "smoking_history_No Info                     1.000000                -0.239002   \n",
       "smoking_history_current                    -0.239002                 1.000000   \n",
       "smoking_history_ever                       -0.152562                -0.065343   \n",
       "smoking_history_former                     -0.239938                -0.102766   \n",
       "smoking_history_never                      -0.549299                -0.235267   \n",
       "smoking_history_not current                -0.196099                -0.083990   \n",
       "age                                        -0.276945                 0.030946   \n",
       "bmi                                        -0.222553                 0.053617   \n",
       "HbA1c_level                                -0.045979                 0.006123   \n",
       "blood_glucose_level                        -0.051635                 0.012447   \n",
       "diabetes                                   -0.118939                 0.019606   \n",
       "\n",
       "                             smoking_history_ever  smoking_history_former  \\\n",
       "gender_Female                           -0.011019               -0.048927   \n",
       "gender_Male                              0.010991                0.049048   \n",
       "gender_Other                             0.001062               -0.004310   \n",
       "smoking_history_No Info                 -0.152562               -0.239938   \n",
       "smoking_history_current                 -0.065343               -0.102766   \n",
       "smoking_history_ever                     1.000000               -0.065598   \n",
       "smoking_history_former                  -0.065598                1.000000   \n",
       "smoking_history_never                   -0.150177               -0.236187   \n",
       "smoking_history_not current             -0.053613               -0.084319   \n",
       "age                                      0.065768                0.216481   \n",
       "bmi                                      0.044343                0.111312   \n",
       "HbA1c_level                              0.009655                0.037306   \n",
       "blood_glucose_level                      0.006267                0.040688   \n",
       "diabetes                                 0.024080                0.097917   \n",
       "\n",
       "                             smoking_history_never  \\\n",
       "gender_Female                             0.098682   \n",
       "gender_Male                              -0.098547   \n",
       "gender_Other                             -0.005181   \n",
       "smoking_history_No Info                  -0.549299   \n",
       "smoking_history_current                  -0.235267   \n",
       "smoking_history_ever                     -0.150177   \n",
       "smoking_history_former                   -0.236187   \n",
       "smoking_history_never                     1.000000   \n",
       "smoking_history_not current              -0.193034   \n",
       "age                                       0.065498   \n",
       "bmi                                       0.086849   \n",
       "HbA1c_level                               0.010684   \n",
       "blood_glucose_level                       0.012475   \n",
       "diabetes                                  0.027267   \n",
       "\n",
       "                             smoking_history_not current       age       bmi  \\\n",
       "gender_Female                                   0.011419  0.030480  0.023016   \n",
       "gender_Male                                    -0.011985 -0.030282 -0.023021   \n",
       "gender_Other                                    0.020760 -0.007348  0.000119   \n",
       "smoking_history_No Info                        -0.196099 -0.276945 -0.222553   \n",
       "smoking_history_current                        -0.083990  0.030946  0.053617   \n",
       "smoking_history_ever                           -0.053613  0.065768  0.044343   \n",
       "smoking_history_former                         -0.084319  0.216481  0.111312   \n",
       "smoking_history_never                          -0.193034  0.065498  0.086849   \n",
       "smoking_history_not current                     1.000000  0.067663  0.034979   \n",
       "age                                             0.067663  1.000000  0.337396   \n",
       "bmi                                             0.034979  0.337396  1.000000   \n",
       "HbA1c_level                                     0.009830  0.101354  0.082997   \n",
       "blood_glucose_level                             0.008613  0.110672  0.091261   \n",
       "diabetes                                        0.020734  0.258008  0.214357   \n",
       "\n",
       "                             HbA1c_level  blood_glucose_level  diabetes  \n",
       "gender_Female                  -0.020015            -0.017200 -0.037553  \n",
       "gender_Male                     0.020058             0.017189  0.037666  \n",
       "gender_Other                   -0.001528             0.000457 -0.004090  \n",
       "smoking_history_No Info        -0.045979            -0.051635 -0.118939  \n",
       "smoking_history_current         0.006123             0.012447  0.019606  \n",
       "smoking_history_ever            0.009655             0.006267  0.024080  \n",
       "smoking_history_former          0.037306             0.040688  0.097917  \n",
       "smoking_history_never           0.010684             0.012475  0.027267  \n",
       "smoking_history_not current     0.009830             0.008613  0.020734  \n",
       "age                             0.101354             0.110672  0.258008  \n",
       "bmi                             0.082997             0.091261  0.214357  \n",
       "HbA1c_level                     1.000000             0.166733  0.400660  \n",
       "blood_glucose_level             0.166733             1.000000  0.419558  \n",
       "diabetes                        0.400660             0.419558  1.000000  "
      ]
     },
     "execution_count": 38,
     "metadata": {},
     "output_type": "execute_result"
    }
   ],
   "source": [
    "df_encoded.corr()"
   ]
  },
  {
   "cell_type": "code",
   "execution_count": 53,
   "metadata": {},
   "outputs": [
    {
     "name": "stdout",
     "output_type": "stream",
     "text": [
      "Ranking columns/features by max correlation\n",
      "                 Column/Feature  Max Correlation\n",
      "13                     diabetes         0.104559\n",
      "9                           age         0.074592\n",
      "10                          bmi         0.064206\n",
      "12          blood_glucose_level         0.062886\n",
      "11                  HbA1c_level         0.059837\n",
      "2                  gender_Other        -0.002483\n",
      "6        smoking_history_former        -0.017638\n",
      "5          smoking_history_ever        -0.025857\n",
      "8   smoking_history_not current        -0.034542\n",
      "4       smoking_history_current        -0.046754\n",
      "1                   gender_Male        -0.073795\n",
      "0                 gender_Female        -0.082079\n",
      "7         smoking_history_never        -0.089711\n",
      "3       smoking_history_No Info        -0.161048\n"
     ]
    }
   ],
   "source": [
    "# Calculating and ranking the max correlation between features\n",
    "\n",
    "correlation_matrix = df_encoded.corr()\n",
    "\n",
    "mean_correlation = {}\n",
    "\n",
    "for coluna in correlation_matrix.columns:\n",
    "    mean_corr = correlation_matrix[coluna].drop(coluna).mean()\n",
    "    mean_correlation[coluna] = mean_corr\n",
    "\n",
    "mean_corr_df = pd.DataFrame(list(mean_correlation.items()), columns=['Column/Feature', 'Max Correlation'])\n",
    "\n",
    "mean_corr_df = mean_corr_df.sort_values(by='Max Correlation', ascending=False)\n",
    "\n",
    "print(\"Ranking columns/features by max correlation\")\n",
    "print(mean_corr_df)"
   ]
  },
  {
   "cell_type": "markdown",
   "metadata": {},
   "source": [
    "No important correlation here! "
   ]
  },
  {
   "cell_type": "markdown",
   "metadata": {},
   "source": [
    "Starting the modelling process using CatBoost 😸"
   ]
  },
  {
   "cell_type": "code",
   "execution_count": 169,
   "metadata": {},
   "outputs": [],
   "source": [
    "X = df.drop('diabetes', axis = 1)\n",
    "y = df['diabetes']\n",
    "\n",
    "X_train, X_test, y_train, y_test = train_test_split(X, y, test_size=0.2, random_state=42)"
   ]
  },
  {
   "cell_type": "code",
   "execution_count": null,
   "metadata": {},
   "outputs": [],
   "source": []
  },
  {
   "cell_type": "code",
   "execution_count": 63,
   "metadata": {},
   "outputs": [
    {
     "data": {
      "text/plain": [
       "5.889281507656066"
      ]
     },
     "execution_count": 63,
     "metadata": {},
     "output_type": "execute_result"
    }
   ],
   "source": [
    "len(y_train)/(2 * np.bincount(y_train)[1])\n",
    "\n",
    "#np.bincount(y_train)[1]"
   ]
  },
  {
   "cell_type": "code",
   "execution_count": 125,
   "metadata": {},
   "outputs": [
    {
     "name": "stdout",
     "output_type": "stream",
     "text": [
      "10.764705882352942\n"
     ]
    }
   ],
   "source": [
    "# Calculating scale_pos_weight\n",
    "weight = len(df[df['diabetes']==0]) / len(df[df['diabetes']==1])\n",
    "print(weight)"
   ]
  },
  {
   "cell_type": "code",
   "execution_count": 117,
   "metadata": {},
   "outputs": [
    {
     "name": "stdout",
     "output_type": "stream",
     "text": [
      "[1. 6.]\n"
     ]
    }
   ],
   "source": [
    "from sklearn.utils.class_weight import compute_class_weight\n",
    "\n",
    "class_weights = compute_class_weight('balanced', classes=np.unique(y_train), y=y_train)\n",
    "\n",
    "print(np.round(class_weights))\n"
   ]
  },
  {
   "cell_type": "code",
   "execution_count": 175,
   "metadata": {},
   "outputs": [
    {
     "data": {
      "application/vnd.jupyter.widget-view+json": {
       "model_id": "509e5cce980a4e65ba8c88dc8a790ed5",
       "version_major": 2,
       "version_minor": 0
      },
      "text/plain": [
       "MetricVisualizer(layout=Layout(align_self='stretch', height='500px'))"
      ]
     },
     "metadata": {},
     "output_type": "display_data"
    },
    {
     "name": "stdout",
     "output_type": "stream",
     "text": [
      "0:\tlearn: 0.6491187\ttest: 0.6490399\tbest: 0.6490399 (0)\ttotal: 220ms\tremaining: 43.8s\n",
      "1:\tlearn: 0.6047689\ttest: 0.6045326\tbest: 0.6045326 (1)\ttotal: 353ms\tremaining: 34.9s\n",
      "2:\tlearn: 0.5641634\ttest: 0.5638745\tbest: 0.5638745 (2)\ttotal: 467ms\tremaining: 30.7s\n",
      "3:\tlearn: 0.5256625\ttest: 0.5253112\tbest: 0.5253112 (3)\ttotal: 574ms\tremaining: 28.1s\n",
      "4:\tlearn: 0.4896822\ttest: 0.4891601\tbest: 0.4891601 (4)\ttotal: 665ms\tremaining: 25.9s\n",
      "5:\tlearn: 0.4573231\ttest: 0.4567930\tbest: 0.4567930 (5)\ttotal: 756ms\tremaining: 24.5s\n",
      "6:\tlearn: 0.4263956\ttest: 0.4258357\tbest: 0.4258357 (6)\ttotal: 823ms\tremaining: 22.7s\n",
      "7:\tlearn: 0.3944229\ttest: 0.3938909\tbest: 0.3938909 (7)\ttotal: 878ms\tremaining: 21.1s\n",
      "8:\tlearn: 0.3680965\ttest: 0.3675445\tbest: 0.3675445 (8)\ttotal: 1s\tremaining: 21.3s\n",
      "9:\tlearn: 0.3435575\ttest: 0.3430967\tbest: 0.3430967 (9)\ttotal: 1.11s\tremaining: 21.1s\n",
      "10:\tlearn: 0.3191942\ttest: 0.3187843\tbest: 0.3187843 (10)\ttotal: 1.25s\tremaining: 21.5s\n",
      "11:\tlearn: 0.2971934\ttest: 0.2967699\tbest: 0.2967699 (11)\ttotal: 1.38s\tremaining: 21.7s\n",
      "12:\tlearn: 0.2776213\ttest: 0.2771857\tbest: 0.2771857 (12)\ttotal: 1.91s\tremaining: 27.5s\n",
      "13:\tlearn: 0.2569034\ttest: 0.2564758\tbest: 0.2564758 (13)\ttotal: 2.14s\tremaining: 28.4s\n",
      "14:\tlearn: 0.2382528\ttest: 0.2377748\tbest: 0.2377748 (14)\ttotal: 2.29s\tremaining: 28.3s\n",
      "15:\tlearn: 0.2222039\ttest: 0.2217177\tbest: 0.2217177 (15)\ttotal: 2.4s\tremaining: 27.6s\n",
      "16:\tlearn: 0.2067828\ttest: 0.2063308\tbest: 0.2063308 (16)\ttotal: 2.46s\tremaining: 26.4s\n",
      "17:\tlearn: 0.1920682\ttest: 0.1915952\tbest: 0.1915952 (17)\ttotal: 2.52s\tremaining: 25.5s\n",
      "18:\tlearn: 0.1771361\ttest: 0.1766698\tbest: 0.1766698 (18)\ttotal: 2.59s\tremaining: 24.7s\n",
      "19:\tlearn: 0.1647393\ttest: 0.1642557\tbest: 0.1642557 (19)\ttotal: 2.74s\tremaining: 24.7s\n",
      "20:\tlearn: 0.1530238\ttest: 0.1525294\tbest: 0.1525294 (20)\ttotal: 2.83s\tremaining: 24.1s\n",
      "21:\tlearn: 0.1428472\ttest: 0.1423853\tbest: 0.1423853 (21)\ttotal: 2.9s\tremaining: 23.4s\n",
      "22:\tlearn: 0.1322427\ttest: 0.1317672\tbest: 0.1317672 (22)\ttotal: 2.99s\tremaining: 23s\n",
      "23:\tlearn: 0.1226817\ttest: 0.1222222\tbest: 0.1222222 (23)\ttotal: 3.06s\tremaining: 22.5s\n",
      "24:\tlearn: 0.1148527\ttest: 0.1143897\tbest: 0.1143897 (24)\ttotal: 3.16s\tremaining: 22.1s\n",
      "25:\tlearn: 0.1064956\ttest: 0.1060236\tbest: 0.1060236 (25)\ttotal: 3.23s\tremaining: 21.6s\n",
      "26:\tlearn: 0.0994504\ttest: 0.0989968\tbest: 0.0989968 (26)\ttotal: 3.29s\tremaining: 21.1s\n",
      "27:\tlearn: 0.0931177\ttest: 0.0926767\tbest: 0.0926767 (27)\ttotal: 3.35s\tremaining: 20.6s\n",
      "28:\tlearn: 0.0872573\ttest: 0.0868268\tbest: 0.0868268 (28)\ttotal: 3.4s\tremaining: 20s\n",
      "29:\tlearn: 0.0811244\ttest: 0.0806956\tbest: 0.0806956 (29)\ttotal: 3.46s\tremaining: 19.6s\n",
      "30:\tlearn: 0.0762604\ttest: 0.0758540\tbest: 0.0758540 (30)\ttotal: 3.53s\tremaining: 19.2s\n",
      "31:\tlearn: 0.0716205\ttest: 0.0712404\tbest: 0.0712404 (31)\ttotal: 3.59s\tremaining: 18.9s\n",
      "32:\tlearn: 0.0666848\ttest: 0.0663363\tbest: 0.0663363 (32)\ttotal: 3.65s\tremaining: 18.4s\n",
      "33:\tlearn: 0.0621183\ttest: 0.0617813\tbest: 0.0617813 (33)\ttotal: 3.73s\tremaining: 18.2s\n",
      "34:\tlearn: 0.0578948\ttest: 0.0575899\tbest: 0.0575899 (34)\ttotal: 3.79s\tremaining: 17.9s\n",
      "35:\tlearn: 0.0543736\ttest: 0.0540744\tbest: 0.0540744 (35)\ttotal: 3.86s\tremaining: 17.6s\n",
      "36:\tlearn: 0.0510310\ttest: 0.0507477\tbest: 0.0507477 (36)\ttotal: 3.92s\tremaining: 17.3s\n",
      "37:\tlearn: 0.0480381\ttest: 0.0477665\tbest: 0.0477665 (37)\ttotal: 3.99s\tremaining: 17s\n",
      "38:\tlearn: 0.0446419\ttest: 0.0443612\tbest: 0.0443612 (38)\ttotal: 4.04s\tremaining: 16.7s\n",
      "39:\tlearn: 0.0419407\ttest: 0.0416541\tbest: 0.0416541 (39)\ttotal: 4.14s\tremaining: 16.6s\n",
      "40:\tlearn: 0.0394704\ttest: 0.0391852\tbest: 0.0391852 (40)\ttotal: 4.2s\tremaining: 16.3s\n",
      "41:\tlearn: 0.0369140\ttest: 0.0366462\tbest: 0.0366462 (41)\ttotal: 4.29s\tremaining: 16.1s\n",
      "42:\tlearn: 0.0345771\ttest: 0.0343239\tbest: 0.0343239 (42)\ttotal: 4.34s\tremaining: 15.9s\n",
      "43:\tlearn: 0.0321316\ttest: 0.0318952\tbest: 0.0318952 (43)\ttotal: 4.39s\tremaining: 15.6s\n",
      "44:\tlearn: 0.0301843\ttest: 0.0299491\tbest: 0.0299491 (44)\ttotal: 4.46s\tremaining: 15.3s\n",
      "45:\tlearn: 0.0284923\ttest: 0.0282528\tbest: 0.0282528 (45)\ttotal: 4.52s\tremaining: 15.1s\n",
      "46:\tlearn: 0.0266617\ttest: 0.0264247\tbest: 0.0264247 (46)\ttotal: 4.58s\tremaining: 14.9s\n",
      "47:\tlearn: 0.0252613\ttest: 0.0250311\tbest: 0.0250311 (47)\ttotal: 4.64s\tremaining: 14.7s\n",
      "48:\tlearn: 0.0239671\ttest: 0.0237412\tbest: 0.0237412 (48)\ttotal: 4.71s\tremaining: 14.5s\n",
      "49:\tlearn: 0.0227667\ttest: 0.0225516\tbest: 0.0225516 (49)\ttotal: 4.78s\tremaining: 14.3s\n",
      "50:\tlearn: 0.0214618\ttest: 0.0212470\tbest: 0.0212470 (50)\ttotal: 4.85s\tremaining: 14.2s\n",
      "51:\tlearn: 0.0201483\ttest: 0.0199407\tbest: 0.0199407 (51)\ttotal: 4.92s\tremaining: 14s\n",
      "52:\tlearn: 0.0190099\ttest: 0.0188083\tbest: 0.0188083 (52)\ttotal: 4.99s\tremaining: 13.8s\n",
      "53:\tlearn: 0.0179201\ttest: 0.0177213\tbest: 0.0177213 (53)\ttotal: 5.06s\tremaining: 13.7s\n",
      "54:\tlearn: 0.0170358\ttest: 0.0168450\tbest: 0.0168450 (54)\ttotal: 5.17s\tremaining: 13.6s\n",
      "55:\tlearn: 0.0161898\ttest: 0.0159997\tbest: 0.0159997 (55)\ttotal: 5.24s\tremaining: 13.5s\n",
      "56:\tlearn: 0.0153230\ttest: 0.0151332\tbest: 0.0151332 (56)\ttotal: 5.3s\tremaining: 13.3s\n",
      "57:\tlearn: 0.0145697\ttest: 0.0143862\tbest: 0.0143862 (57)\ttotal: 5.37s\tremaining: 13.1s\n",
      "58:\tlearn: 0.0136556\ttest: 0.0134780\tbest: 0.0134780 (58)\ttotal: 5.47s\tremaining: 13.1s\n",
      "59:\tlearn: 0.0129336\ttest: 0.0127581\tbest: 0.0127581 (59)\ttotal: 5.53s\tremaining: 12.9s\n",
      "60:\tlearn: 0.0121863\ttest: 0.0120120\tbest: 0.0120120 (60)\ttotal: 5.58s\tremaining: 12.7s\n",
      "61:\tlearn: 0.0115208\ttest: 0.0113553\tbest: 0.0113553 (61)\ttotal: 5.63s\tremaining: 12.5s\n",
      "62:\tlearn: 0.0109410\ttest: 0.0107792\tbest: 0.0107792 (62)\ttotal: 5.7s\tremaining: 12.4s\n",
      "63:\tlearn: 0.0103823\ttest: 0.0102256\tbest: 0.0102256 (63)\ttotal: 5.75s\tremaining: 12.2s\n",
      "64:\tlearn: 0.0098534\ttest: 0.0096999\tbest: 0.0096999 (64)\ttotal: 5.81s\tremaining: 12.1s\n",
      "65:\tlearn: 0.0092774\ttest: 0.0091278\tbest: 0.0091278 (65)\ttotal: 5.86s\tremaining: 11.9s\n",
      "66:\tlearn: 0.0087637\ttest: 0.0086172\tbest: 0.0086172 (66)\ttotal: 5.93s\tremaining: 11.8s\n",
      "67:\tlearn: 0.0083494\ttest: 0.0082066\tbest: 0.0082066 (67)\ttotal: 5.98s\tremaining: 11.6s\n",
      "68:\tlearn: 0.0079082\ttest: 0.0077686\tbest: 0.0077686 (68)\ttotal: 6.03s\tremaining: 11.5s\n",
      "69:\tlearn: 0.0075307\ttest: 0.0073944\tbest: 0.0073944 (69)\ttotal: 6.13s\tremaining: 11.4s\n",
      "70:\tlearn: 0.0071284\ttest: 0.0069983\tbest: 0.0069983 (70)\ttotal: 6.19s\tremaining: 11.2s\n",
      "71:\tlearn: 0.0067933\ttest: 0.0066676\tbest: 0.0066676 (71)\ttotal: 6.28s\tremaining: 11.2s\n",
      "72:\tlearn: 0.0065071\ttest: 0.0063821\tbest: 0.0063821 (72)\ttotal: 6.33s\tremaining: 11s\n",
      "73:\tlearn: 0.0062454\ttest: 0.0061238\tbest: 0.0061238 (73)\ttotal: 6.39s\tremaining: 10.9s\n",
      "74:\tlearn: 0.0059709\ttest: 0.0058519\tbest: 0.0058519 (74)\ttotal: 6.46s\tremaining: 10.8s\n",
      "75:\tlearn: 0.0056772\ttest: 0.0055608\tbest: 0.0055608 (75)\ttotal: 6.51s\tremaining: 10.6s\n",
      "76:\tlearn: 0.0054299\ttest: 0.0053176\tbest: 0.0053176 (76)\ttotal: 6.57s\tremaining: 10.5s\n",
      "77:\tlearn: 0.0052270\ttest: 0.0051177\tbest: 0.0051177 (77)\ttotal: 6.64s\tremaining: 10.4s\n",
      "78:\tlearn: 0.0050197\ttest: 0.0049118\tbest: 0.0049118 (78)\ttotal: 6.69s\tremaining: 10.2s\n",
      "79:\tlearn: 0.0048041\ttest: 0.0047001\tbest: 0.0047001 (79)\ttotal: 6.75s\tremaining: 10.1s\n",
      "80:\tlearn: 0.0046127\ttest: 0.0045101\tbest: 0.0045101 (80)\ttotal: 6.81s\tremaining: 10s\n",
      "81:\tlearn: 0.0044192\ttest: 0.0043166\tbest: 0.0043166 (81)\ttotal: 6.88s\tremaining: 9.9s\n",
      "82:\tlearn: 0.0042487\ttest: 0.0041491\tbest: 0.0041491 (82)\ttotal: 6.94s\tremaining: 9.78s\n",
      "83:\tlearn: 0.0040393\ttest: 0.0039407\tbest: 0.0039407 (83)\ttotal: 7s\tremaining: 9.66s\n",
      "84:\tlearn: 0.0038856\ttest: 0.0037885\tbest: 0.0037885 (84)\ttotal: 7.05s\tremaining: 9.54s\n",
      "85:\tlearn: 0.0037046\ttest: 0.0036096\tbest: 0.0036096 (85)\ttotal: 7.16s\tremaining: 9.49s\n",
      "86:\tlearn: 0.0035686\ttest: 0.0034753\tbest: 0.0034753 (86)\ttotal: 7.21s\tremaining: 9.37s\n",
      "87:\tlearn: 0.0034069\ttest: 0.0033152\tbest: 0.0033152 (87)\ttotal: 7.28s\tremaining: 9.27s\n",
      "88:\tlearn: 0.0032811\ttest: 0.0031905\tbest: 0.0031905 (88)\ttotal: 7.33s\tremaining: 9.14s\n",
      "89:\tlearn: 0.0031609\ttest: 0.0030721\tbest: 0.0030721 (89)\ttotal: 7.4s\tremaining: 9.04s\n",
      "90:\tlearn: 0.0030391\ttest: 0.0029530\tbest: 0.0029530 (90)\ttotal: 7.46s\tremaining: 8.93s\n",
      "91:\tlearn: 0.0029295\ttest: 0.0028440\tbest: 0.0028440 (91)\ttotal: 7.51s\tremaining: 8.82s\n",
      "92:\tlearn: 0.0028319\ttest: 0.0027482\tbest: 0.0027482 (92)\ttotal: 7.57s\tremaining: 8.71s\n",
      "93:\tlearn: 0.0027445\ttest: 0.0026621\tbest: 0.0026621 (93)\ttotal: 7.62s\tremaining: 8.6s\n",
      "94:\tlearn: 0.0026461\ttest: 0.0025648\tbest: 0.0025648 (94)\ttotal: 7.69s\tremaining: 8.5s\n",
      "95:\tlearn: 0.0025404\ttest: 0.0024604\tbest: 0.0024604 (95)\ttotal: 7.79s\tremaining: 8.44s\n",
      "96:\tlearn: 0.0024323\ttest: 0.0023542\tbest: 0.0023542 (96)\ttotal: 8.03s\tremaining: 8.53s\n",
      "97:\tlearn: 0.0023600\ttest: 0.0022830\tbest: 0.0022830 (97)\ttotal: 8.13s\tremaining: 8.46s\n",
      "98:\tlearn: 0.0022811\ttest: 0.0022056\tbest: 0.0022056 (98)\ttotal: 8.19s\tremaining: 8.35s\n",
      "99:\tlearn: 0.0021905\ttest: 0.0021157\tbest: 0.0021157 (99)\ttotal: 8.24s\tremaining: 8.24s\n",
      "100:\tlearn: 0.0021205\ttest: 0.0020465\tbest: 0.0020465 (100)\ttotal: 8.3s\tremaining: 8.13s\n",
      "101:\tlearn: 0.0020486\ttest: 0.0019757\tbest: 0.0019757 (101)\ttotal: 8.37s\tremaining: 8.04s\n",
      "102:\tlearn: 0.0019814\ttest: 0.0019092\tbest: 0.0019092 (102)\ttotal: 8.42s\tremaining: 7.93s\n",
      "103:\tlearn: 0.0019175\ttest: 0.0018457\tbest: 0.0018457 (103)\ttotal: 8.49s\tremaining: 7.83s\n",
      "104:\tlearn: 0.0018589\ttest: 0.0017889\tbest: 0.0017889 (104)\ttotal: 8.54s\tremaining: 7.72s\n",
      "105:\tlearn: 0.0017936\ttest: 0.0017244\tbest: 0.0017244 (105)\ttotal: 8.59s\tremaining: 7.62s\n",
      "106:\tlearn: 0.0017270\ttest: 0.0016595\tbest: 0.0016595 (106)\ttotal: 8.64s\tremaining: 7.51s\n",
      "107:\tlearn: 0.0016725\ttest: 0.0016058\tbest: 0.0016058 (107)\ttotal: 8.7s\tremaining: 7.41s\n",
      "108:\tlearn: 0.0016248\ttest: 0.0015590\tbest: 0.0015590 (108)\ttotal: 8.76s\tremaining: 7.31s\n",
      "109:\tlearn: 0.0015650\ttest: 0.0015004\tbest: 0.0015004 (109)\ttotal: 8.81s\tremaining: 7.21s\n",
      "110:\tlearn: 0.0015189\ttest: 0.0014552\tbest: 0.0014552 (110)\ttotal: 8.88s\tremaining: 7.12s\n",
      "111:\tlearn: 0.0014748\ttest: 0.0014119\tbest: 0.0014119 (111)\ttotal: 8.94s\tremaining: 7.02s\n",
      "112:\tlearn: 0.0014339\ttest: 0.0013714\tbest: 0.0013714 (112)\ttotal: 8.99s\tremaining: 6.92s\n",
      "113:\tlearn: 0.0013937\ttest: 0.0013320\tbest: 0.0013320 (113)\ttotal: 9.03s\tremaining: 6.82s\n",
      "114:\tlearn: 0.0013513\ttest: 0.0012902\tbest: 0.0012902 (114)\ttotal: 9.13s\tremaining: 6.75s\n",
      "115:\tlearn: 0.0013100\ttest: 0.0012500\tbest: 0.0012500 (115)\ttotal: 9.2s\tremaining: 6.66s\n",
      "116:\tlearn: 0.0012712\ttest: 0.0012123\tbest: 0.0012123 (116)\ttotal: 9.25s\tremaining: 6.56s\n",
      "117:\tlearn: 0.0012320\ttest: 0.0011740\tbest: 0.0011740 (117)\ttotal: 9.31s\tremaining: 6.47s\n",
      "118:\tlearn: 0.0011915\ttest: 0.0011342\tbest: 0.0011342 (118)\ttotal: 9.36s\tremaining: 6.37s\n",
      "119:\tlearn: 0.0011593\ttest: 0.0011025\tbest: 0.0011025 (119)\ttotal: 9.42s\tremaining: 6.28s\n",
      "120:\tlearn: 0.0011217\ttest: 0.0010657\tbest: 0.0010657 (120)\ttotal: 9.48s\tremaining: 6.19s\n",
      "121:\tlearn: 0.0010873\ttest: 0.0010318\tbest: 0.0010318 (121)\ttotal: 9.56s\tremaining: 6.11s\n",
      "122:\tlearn: 0.0010585\ttest: 0.0010038\tbest: 0.0010038 (122)\ttotal: 9.66s\tremaining: 6.05s\n",
      "123:\tlearn: 0.0010335\ttest: 0.0009795\tbest: 0.0009795 (123)\ttotal: 9.72s\tremaining: 5.96s\n",
      "124:\tlearn: 0.0010088\ttest: 0.0009553\tbest: 0.0009553 (124)\ttotal: 9.77s\tremaining: 5.86s\n",
      "125:\tlearn: 0.0009865\ttest: 0.0009336\tbest: 0.0009336 (125)\ttotal: 9.85s\tremaining: 5.79s\n",
      "126:\tlearn: 0.0009592\ttest: 0.0009069\tbest: 0.0009069 (126)\ttotal: 10s\tremaining: 5.76s\n",
      "127:\tlearn: 0.0009372\ttest: 0.0008858\tbest: 0.0008858 (127)\ttotal: 10.2s\tremaining: 5.71s\n",
      "128:\tlearn: 0.0009101\ttest: 0.0008593\tbest: 0.0008593 (128)\ttotal: 10.2s\tremaining: 5.61s\n",
      "129:\tlearn: 0.0008838\ttest: 0.0008337\tbest: 0.0008337 (129)\ttotal: 10.3s\tremaining: 5.53s\n",
      "130:\tlearn: 0.0008590\ttest: 0.0008098\tbest: 0.0008098 (130)\ttotal: 10.3s\tremaining: 5.45s\n",
      "131:\tlearn: 0.0008368\ttest: 0.0007881\tbest: 0.0007881 (131)\ttotal: 10.4s\tremaining: 5.37s\n",
      "132:\tlearn: 0.0008126\ttest: 0.0007644\tbest: 0.0007644 (132)\ttotal: 10.5s\tremaining: 5.28s\n",
      "133:\tlearn: 0.0007913\ttest: 0.0007436\tbest: 0.0007436 (133)\ttotal: 10.5s\tremaining: 5.19s\n",
      "134:\tlearn: 0.0007735\ttest: 0.0007262\tbest: 0.0007262 (134)\ttotal: 10.6s\tremaining: 5.1s\n",
      "135:\tlearn: 0.0007570\ttest: 0.0007104\tbest: 0.0007104 (135)\ttotal: 10.6s\tremaining: 5.01s\n",
      "136:\tlearn: 0.0007381\ttest: 0.0006923\tbest: 0.0006923 (136)\ttotal: 10.7s\tremaining: 4.92s\n",
      "137:\tlearn: 0.0007187\ttest: 0.0006733\tbest: 0.0006733 (137)\ttotal: 10.8s\tremaining: 4.84s\n",
      "138:\tlearn: 0.0007041\ttest: 0.0006592\tbest: 0.0006592 (138)\ttotal: 10.8s\tremaining: 4.75s\n",
      "139:\tlearn: 0.0006899\ttest: 0.0006456\tbest: 0.0006456 (139)\ttotal: 10.9s\tremaining: 4.66s\n",
      "140:\tlearn: 0.0006734\ttest: 0.0006296\tbest: 0.0006296 (140)\ttotal: 10.9s\tremaining: 4.57s\n",
      "141:\tlearn: 0.0006579\ttest: 0.0006143\tbest: 0.0006143 (141)\ttotal: 11s\tremaining: 4.48s\n",
      "142:\tlearn: 0.0006451\ttest: 0.0006022\tbest: 0.0006022 (142)\ttotal: 11.2s\tremaining: 4.45s\n",
      "143:\tlearn: 0.0006323\ttest: 0.0005897\tbest: 0.0005897 (143)\ttotal: 11.2s\tremaining: 4.36s\n",
      "144:\tlearn: 0.0006172\ttest: 0.0005752\tbest: 0.0005752 (144)\ttotal: 11.3s\tremaining: 4.27s\n",
      "145:\tlearn: 0.0006044\ttest: 0.0005629\tbest: 0.0005629 (145)\ttotal: 11.3s\tremaining: 4.19s\n",
      "146:\tlearn: 0.0005933\ttest: 0.0005521\tbest: 0.0005521 (146)\ttotal: 11.4s\tremaining: 4.1s\n",
      "147:\tlearn: 0.0005831\ttest: 0.0005422\tbest: 0.0005422 (147)\ttotal: 11.4s\tremaining: 4.01s\n",
      "148:\tlearn: 0.0005696\ttest: 0.0005292\tbest: 0.0005292 (148)\ttotal: 11.5s\tremaining: 3.93s\n",
      "149:\tlearn: 0.0005628\ttest: 0.0005226\tbest: 0.0005226 (149)\ttotal: 11.5s\tremaining: 3.84s\n",
      "150:\tlearn: 0.0005530\ttest: 0.0005132\tbest: 0.0005132 (150)\ttotal: 11.6s\tremaining: 3.75s\n",
      "151:\tlearn: 0.0005415\ttest: 0.0005020\tbest: 0.0005020 (151)\ttotal: 11.6s\tremaining: 3.67s\n",
      "152:\tlearn: 0.0005327\ttest: 0.0004936\tbest: 0.0004936 (152)\ttotal: 11.7s\tremaining: 3.59s\n",
      "153:\tlearn: 0.0005195\ttest: 0.0004809\tbest: 0.0004809 (153)\ttotal: 11.7s\tremaining: 3.5s\n",
      "154:\tlearn: 0.0005072\ttest: 0.0004692\tbest: 0.0004692 (154)\ttotal: 11.8s\tremaining: 3.42s\n",
      "155:\tlearn: 0.0004972\ttest: 0.0004596\tbest: 0.0004596 (155)\ttotal: 11.8s\tremaining: 3.33s\n",
      "156:\tlearn: 0.0004901\ttest: 0.0004527\tbest: 0.0004527 (156)\ttotal: 11.9s\tremaining: 3.25s\n",
      "157:\tlearn: 0.0004797\ttest: 0.0004428\tbest: 0.0004428 (157)\ttotal: 11.9s\tremaining: 3.17s\n",
      "158:\tlearn: 0.0004688\ttest: 0.0004322\tbest: 0.0004322 (158)\ttotal: 12s\tremaining: 3.09s\n",
      "159:\tlearn: 0.0004625\ttest: 0.0004262\tbest: 0.0004262 (159)\ttotal: 12s\tremaining: 3.01s\n",
      "160:\tlearn: 0.0004561\ttest: 0.0004200\tbest: 0.0004200 (160)\ttotal: 12.1s\tremaining: 2.94s\n",
      "161:\tlearn: 0.0004475\ttest: 0.0004117\tbest: 0.0004117 (161)\ttotal: 12.2s\tremaining: 2.86s\n",
      "162:\tlearn: 0.0004383\ttest: 0.0004030\tbest: 0.0004030 (162)\ttotal: 12.3s\tremaining: 2.78s\n",
      "163:\tlearn: 0.0004304\ttest: 0.0003953\tbest: 0.0003953 (163)\ttotal: 12.3s\tremaining: 2.71s\n",
      "164:\tlearn: 0.0004226\ttest: 0.0003877\tbest: 0.0003877 (164)\ttotal: 12.4s\tremaining: 2.63s\n",
      "165:\tlearn: 0.0004145\ttest: 0.0003799\tbest: 0.0003799 (165)\ttotal: 12.5s\tremaining: 2.55s\n",
      "166:\tlearn: 0.0004093\ttest: 0.0003750\tbest: 0.0003750 (166)\ttotal: 12.5s\tremaining: 2.47s\n",
      "167:\tlearn: 0.0004040\ttest: 0.0003699\tbest: 0.0003699 (167)\ttotal: 12.6s\tremaining: 2.39s\n",
      "168:\tlearn: 0.0003989\ttest: 0.0003650\tbest: 0.0003650 (168)\ttotal: 12.6s\tremaining: 2.31s\n",
      "169:\tlearn: 0.0003940\ttest: 0.0003604\tbest: 0.0003604 (169)\ttotal: 12.7s\tremaining: 2.23s\n",
      "170:\tlearn: 0.0003870\ttest: 0.0003537\tbest: 0.0003537 (170)\ttotal: 12.7s\tremaining: 2.15s\n",
      "171:\tlearn: 0.0003823\ttest: 0.0003492\tbest: 0.0003492 (171)\ttotal: 12.8s\tremaining: 2.08s\n",
      "172:\tlearn: 0.0003774\ttest: 0.0003445\tbest: 0.0003445 (172)\ttotal: 12.8s\tremaining: 2s\n",
      "173:\tlearn: 0.0003728\ttest: 0.0003400\tbest: 0.0003400 (173)\ttotal: 12.9s\tremaining: 1.92s\n",
      "174:\tlearn: 0.0003659\ttest: 0.0003335\tbest: 0.0003335 (174)\ttotal: 12.9s\tremaining: 1.85s\n",
      "175:\tlearn: 0.0003600\ttest: 0.0003277\tbest: 0.0003277 (175)\ttotal: 13s\tremaining: 1.77s\n",
      "176:\tlearn: 0.0003558\ttest: 0.0003236\tbest: 0.0003236 (176)\ttotal: 13.1s\tremaining: 1.7s\n",
      "177:\tlearn: 0.0003504\ttest: 0.0003184\tbest: 0.0003184 (177)\ttotal: 13.1s\tremaining: 1.62s\n",
      "178:\tlearn: 0.0003442\ttest: 0.0003124\tbest: 0.0003124 (178)\ttotal: 13.2s\tremaining: 1.54s\n",
      "179:\tlearn: 0.0003385\ttest: 0.0003069\tbest: 0.0003069 (179)\ttotal: 13.2s\tremaining: 1.47s\n",
      "180:\tlearn: 0.0003354\ttest: 0.0003039\tbest: 0.0003039 (180)\ttotal: 13.3s\tremaining: 1.39s\n",
      "181:\tlearn: 0.0003296\ttest: 0.0002983\tbest: 0.0002983 (181)\ttotal: 13.5s\tremaining: 1.33s\n",
      "182:\tlearn: 0.0003238\ttest: 0.0002929\tbest: 0.0002929 (182)\ttotal: 13.6s\tremaining: 1.26s\n",
      "183:\tlearn: 0.0003190\ttest: 0.0002883\tbest: 0.0002883 (183)\ttotal: 13.6s\tremaining: 1.19s\n",
      "184:\tlearn: 0.0003147\ttest: 0.0002841\tbest: 0.0002841 (184)\ttotal: 13.7s\tremaining: 1.11s\n",
      "185:\tlearn: 0.0003098\ttest: 0.0002795\tbest: 0.0002795 (185)\ttotal: 13.8s\tremaining: 1.04s\n",
      "186:\tlearn: 0.0003050\ttest: 0.0002748\tbest: 0.0002748 (186)\ttotal: 13.8s\tremaining: 960ms\n",
      "187:\tlearn: 0.0003017\ttest: 0.0002716\tbest: 0.0002716 (187)\ttotal: 13.9s\tremaining: 885ms\n",
      "188:\tlearn: 0.0002973\ttest: 0.0002675\tbest: 0.0002675 (188)\ttotal: 13.9s\tremaining: 811ms\n",
      "189:\tlearn: 0.0002926\ttest: 0.0002630\tbest: 0.0002630 (189)\ttotal: 14s\tremaining: 736ms\n",
      "190:\tlearn: 0.0002886\ttest: 0.0002592\tbest: 0.0002592 (190)\ttotal: 14.1s\tremaining: 664ms\n",
      "191:\tlearn: 0.0002848\ttest: 0.0002556\tbest: 0.0002556 (191)\ttotal: 14.1s\tremaining: 589ms\n",
      "192:\tlearn: 0.0002804\ttest: 0.0002515\tbest: 0.0002515 (192)\ttotal: 14.2s\tremaining: 515ms\n",
      "193:\tlearn: 0.0002761\ttest: 0.0002475\tbest: 0.0002475 (193)\ttotal: 14.2s\tremaining: 440ms\n",
      "194:\tlearn: 0.0002718\ttest: 0.0002433\tbest: 0.0002433 (194)\ttotal: 14.4s\tremaining: 370ms\n",
      "195:\tlearn: 0.0002680\ttest: 0.0002397\tbest: 0.0002397 (195)\ttotal: 14.5s\tremaining: 296ms\n",
      "196:\tlearn: 0.0002643\ttest: 0.0002363\tbest: 0.0002363 (196)\ttotal: 14.6s\tremaining: 222ms\n",
      "197:\tlearn: 0.0002607\ttest: 0.0002330\tbest: 0.0002330 (197)\ttotal: 14.7s\tremaining: 148ms\n",
      "198:\tlearn: 0.0002574\ttest: 0.0002298\tbest: 0.0002298 (198)\ttotal: 14.8s\tremaining: 74.2ms\n",
      "199:\tlearn: 0.0002542\ttest: 0.0002267\tbest: 0.0002267 (199)\ttotal: 14.9s\tremaining: 0us\n",
      "\n",
      "bestTest = 0.0002267145146\n",
      "bestIteration = 199\n",
      "\n"
     ]
    },
    {
     "data": {
      "text/plain": [
       "<catboost.core.CatBoostClassifier at 0x7f826ccdff70>"
      ]
     },
     "execution_count": 175,
     "metadata": {},
     "output_type": "execute_result"
    }
   ],
   "source": [
    "\n",
    "categorical_features = ['gender','smoking_history']\n",
    "\n",
    "model = CatBoostClassifier(iterations=200, \n",
    "                           depth=5, \n",
    "                           learning_rate=0.01, \n",
    "                           cat_features=categorical_features, \n",
    "                           early_stopping_rounds=10,\n",
    "                           random_seed=42,\n",
    "                           custom_loss=['AUC', 'Accuracy'],\n",
    "                           #scale_pos_weight=11,\n",
    "                           #class_weights=class_weights,\n",
    "                           class_weights={0: 0, 1: 11}\n",
    "                           #auto_class_weights = ['balanced']\n",
    "                           )\n",
    "\n",
    "model.fit(\n",
    "    X_train, \n",
    "    y_train,\n",
    "    eval_set=(X_test, y_test),\n",
    "    verbose=True,\n",
    "    plot=True\n",
    "    )"
   ]
  },
  {
   "cell_type": "markdown",
   "metadata": {},
   "source": [
    "Make predictions over test data 🔮"
   ]
  },
  {
   "cell_type": "markdown",
   "metadata": {},
   "source": [
    "Fingers-crossed: How the model performed?"
   ]
  },
  {
   "cell_type": "code",
   "execution_count": 176,
   "metadata": {},
   "outputs": [
    {
     "name": "stderr",
     "output_type": "stream",
     "text": [
      "The behavior of DataFrame concatenation with empty or all-NA entries is deprecated. In a future version, this will no longer exclude empty or all-NA columns when determining the result dtypes. To retain the old behavior, exclude the relevant entries before the concat operation.\n"
     ]
    },
    {
     "data": {
      "text/html": [
       "<div>\n",
       "<style scoped>\n",
       "    .dataframe tbody tr th:only-of-type {\n",
       "        vertical-align: middle;\n",
       "    }\n",
       "\n",
       "    .dataframe tbody tr th {\n",
       "        vertical-align: top;\n",
       "    }\n",
       "\n",
       "    .dataframe thead th {\n",
       "        text-align: right;\n",
       "    }\n",
       "</style>\n",
       "<table border=\"1\" class=\"dataframe\">\n",
       "  <thead>\n",
       "    <tr style=\"text-align: right;\">\n",
       "      <th></th>\n",
       "      <th>Accuracy</th>\n",
       "      <th>F1-Score</th>\n",
       "      <th>Recall</th>\n",
       "      <th>Precision</th>\n",
       "      <th>AUC-ROC</th>\n",
       "    </tr>\n",
       "  </thead>\n",
       "  <tbody>\n",
       "    <tr>\n",
       "      <th>0</th>\n",
       "      <td>0.0854</td>\n",
       "      <td>0.157361</td>\n",
       "      <td>1.0</td>\n",
       "      <td>0.0854</td>\n",
       "      <td>0.813051</td>\n",
       "    </tr>\n",
       "  </tbody>\n",
       "</table>\n",
       "</div>"
      ],
      "text/plain": [
       "   Accuracy  F1-Score  Recall  Precision   AUC-ROC\n",
       "0    0.0854  0.157361     1.0     0.0854  0.813051"
      ]
     },
     "execution_count": 176,
     "metadata": {},
     "output_type": "execute_result"
    }
   ],
   "source": [
    "y_pred = model.predict(X_test)\n",
    "\n",
    "metrics_df = pd.DataFrame(columns=['Accuracy', 'F1-Score', 'Recall', 'Precision', 'AUC-ROC'])\n",
    "\n",
    "y_pred = model.predict(X_test)\n",
    "y_prob = model.predict_proba(X_test)[:, 1] \n",
    "accuracy = accuracy_score(y_test, y_pred)\n",
    "f1 = f1_score(y_test, y_pred)\n",
    "recall = recall_score(y_test, y_pred)\n",
    "precision = precision_score(y_test, y_pred, zero_division = np.nan)\n",
    "auc_roc = roc_auc_score(y_test, y_prob)\n",
    "metrics_df = metrics_df._append({\n",
    "    'Accuracy': accuracy,\n",
    "    'F1-Score': f1,\n",
    "    'Recall': recall,\n",
    "    'Precision': precision,\n",
    "    'AUC-ROC': auc_roc}, ignore_index=True)\n",
    "\n",
    "metrics_df"
   ]
  },
  {
   "cell_type": "code",
   "execution_count": 177,
   "metadata": {},
   "outputs": [
    {
     "name": "stdout",
     "output_type": "stream",
     "text": [
      "Counter({1: 20000})\n",
      "Counter({0: 18292, 1: 1708})\n"
     ]
    }
   ],
   "source": [
    "from collections import Counter\n",
    "\n",
    "print (Counter(y_pred))\n",
    "print(Counter(y_test))\n"
   ]
  },
  {
   "cell_type": "code",
   "execution_count": 178,
   "metadata": {},
   "outputs": [
    {
     "name": "stderr",
     "output_type": "stream",
     "text": [
      "is_categorical_dtype is deprecated and will be removed in a future version. Use isinstance(dtype, CategoricalDtype) instead\n",
      "use_inf_as_na option is deprecated and will be removed in a future version. Convert inf values to NaN before operating instead.\n"
     ]
    },
    {
     "data": {
      "text/plain": [
       "<seaborn.axisgrid.FacetGrid at 0x7f825547ba90>"
      ]
     },
     "execution_count": 178,
     "metadata": {},
     "output_type": "execute_result"
    },
    {
     "data": {
      "image/png": "[encoded data removed]",
      "text/plain": [
       "<Figure size 500x500 with 1 Axes>"
      ]
     },
     "metadata": {},
     "output_type": "display_data"
    }
   ],
   "source": [
    "sns.displot(y_pred)"
   ]
  },
  {
   "cell_type": "code",
   "execution_count": 168,
   "metadata": {},
   "outputs": [
    {
     "data": {
      "text/plain": [
       "0.01725376377955817"
      ]
     },
     "execution_count": 168,
     "metadata": {},
     "output_type": "execute_result"
    }
   ],
   "source": [
    "y_prob.max()"
   ]
  },
  {
   "cell_type": "code",
   "execution_count": 156,
   "metadata": {},
   "outputs": [
    {
     "data": {
      "text/plain": [
       "array([[18292,     0],\n",
       "       [ 1708,     0]])"
      ]
     },
     "execution_count": 156,
     "metadata": {},
     "output_type": "execute_result"
    }
   ],
   "source": [
    "cm = confusion_matrix(y_test, y_pred)\n",
    "cm"
   ]
  },
  {
   "cell_type": "code",
   "execution_count": 157,
   "metadata": {},
   "outputs": [
    {
     "data": {
      "image/png": "[encoded data removed]",
      "text/plain": [
       "<Figure size 640x480 with 2 Axes>"
      ]
     },
     "metadata": {},
     "output_type": "display_data"
    }
   ],
   "source": [
    "cm = confusion_matrix(y_test, y_pred)\n",
    "sns.heatmap(cm, annot=True, fmt='d', cmap='Blues')\n",
    "plt.xlabel('Valores Preditos')\n",
    "plt.ylabel('Valores Reais')\n",
    "plt.show()"
   ]
  },
  {
   "cell_type": "markdown",
   "metadata": {},
   "source": [
    "🎉 The CatBoost model trained for heart disease classification demonstrated <b>solid performance</b> on both training and validation sets. \n",
    "With an accuracy of approximately 86.41%, the model correctly classified the majority of samples in the validation set. \n",
    "\n",
    "⭐ Furthermore, the model achieved an F1-Score of around 0.8815, highlighting its ability to balance precision and recall. The recall of approximately 86.92% indicates the model's ability to identify cases of heart disease, while the accuracy of approximately 89.42% demonstrates that the positive predictions are reliable.\n",
    "\n",
    "🤩 The AUC-ROC metric, with a value of around 0.92754, reflects the high discriminatory capacity of the model. In summary, the CatBoost model is effective in classifying heart diseases, with high performance in identifying positive cases and a solid ability to discriminate between classes."
   ]
  },
  {
   "cell_type": "markdown",
   "metadata": {},
   "source": [
    "Determining what's the importance (weight) of each feature in detecting heart disease. "
   ]
  },
  {
   "cell_type": "code",
   "execution_count": 158,
   "metadata": {},
   "outputs": [
    {
     "data": {
      "text/html": [
       "<div>\n",
       "<style scoped>\n",
       "    .dataframe tbody tr th:only-of-type {\n",
       "        vertical-align: middle;\n",
       "    }\n",
       "\n",
       "    .dataframe tbody tr th {\n",
       "        vertical-align: top;\n",
       "    }\n",
       "\n",
       "    .dataframe thead th {\n",
       "        text-align: right;\n",
       "    }\n",
       "</style>\n",
       "<table border=\"1\" class=\"dataframe\">\n",
       "  <thead>\n",
       "    <tr style=\"text-align: right;\">\n",
       "      <th></th>\n",
       "      <th>Feature Id</th>\n",
       "      <th>Importances</th>\n",
       "    </tr>\n",
       "  </thead>\n",
       "  <tbody>\n",
       "    <tr>\n",
       "      <th>0</th>\n",
       "      <td>blood_glucose_level</td>\n",
       "      <td>26.210370</td>\n",
       "    </tr>\n",
       "    <tr>\n",
       "      <th>1</th>\n",
       "      <td>HbA1c_level</td>\n",
       "      <td>20.939041</td>\n",
       "    </tr>\n",
       "    <tr>\n",
       "      <th>2</th>\n",
       "      <td>hypertension</td>\n",
       "      <td>18.658391</td>\n",
       "    </tr>\n",
       "    <tr>\n",
       "      <th>3</th>\n",
       "      <td>heart_disease</td>\n",
       "      <td>15.446039</td>\n",
       "    </tr>\n",
       "    <tr>\n",
       "      <th>4</th>\n",
       "      <td>age</td>\n",
       "      <td>10.675282</td>\n",
       "    </tr>\n",
       "    <tr>\n",
       "      <th>5</th>\n",
       "      <td>bmi</td>\n",
       "      <td>8.070877</td>\n",
       "    </tr>\n",
       "    <tr>\n",
       "      <th>6</th>\n",
       "      <td>gender</td>\n",
       "      <td>0.000000</td>\n",
       "    </tr>\n",
       "    <tr>\n",
       "      <th>7</th>\n",
       "      <td>smoking_history</td>\n",
       "      <td>0.000000</td>\n",
       "    </tr>\n",
       "  </tbody>\n",
       "</table>\n",
       "</div>"
      ],
      "text/plain": [
       "            Feature Id  Importances\n",
       "0  blood_glucose_level    26.210370\n",
       "1          HbA1c_level    20.939041\n",
       "2         hypertension    18.658391\n",
       "3        heart_disease    15.446039\n",
       "4                  age    10.675282\n",
       "5                  bmi     8.070877\n",
       "6               gender     0.000000\n",
       "7      smoking_history     0.000000"
      ]
     },
     "execution_count": 158,
     "metadata": {},
     "output_type": "execute_result"
    }
   ],
   "source": [
    "feature_importances = model.get_feature_importance(prettified=True)\n",
    "feature_importances"
   ]
  },
  {
   "cell_type": "code",
   "execution_count": 159,
   "metadata": {},
   "outputs": [
    {
     "data": {
      "text/plain": [
       "<Axes: ylabel='Feature Id'>"
      ]
     },
     "execution_count": 159,
     "metadata": {},
     "output_type": "execute_result"
    },
    {
     "data": {
      "image/png": "[encoded data removed]",
      "text/plain": [
       "<Figure size 640x480 with 1 Axes>"
      ]
     },
     "metadata": {},
     "output_type": "display_data"
    }
   ],
   "source": [
    "feature_importances.plot(kind='barh', x='Feature Id', y='Importances', legend=False)"
   ]
  },
  {
   "cell_type": "markdown",
   "metadata": {},
   "source": [
    "We can see that, and attention to: \n",
    " - ST_Slope: Can be checked with ECG exam: ref: https://pubmed.ncbi.nlm.nih.gov/3739881/\n",
    " - ChestPainType: Always keep in mind and tell your doctor the type of chest pain you're feeling.\n",
    " - ExerciseAngina: Chest pain during exercises is a good teller of heart disease.\n",
    " - Cholesterol: Keep your blood exams updated and consult your doctor on how to improve your feeding habits.\n"
   ]
  },
  {
   "cell_type": "code",
   "execution_count": 148,
   "metadata": {},
   "outputs": [
    {
     "name": "stderr",
     "output_type": "stream",
     "text": [
      "No negative samples in y_true, false positive value should be meaningless\n"
     ]
    },
    {
     "data": {
      "text/plain": [
       "<sklearn.metrics._plot.roc_curve.RocCurveDisplay at 0x7f825684d820>"
      ]
     },
     "execution_count": 148,
     "metadata": {},
     "output_type": "execute_result"
    },
    {
     "data": {
      "image/png": "[encoded data removed]",
      "text/plain": [
       "<Figure size 640x480 with 1 Axes>"
      ]
     },
     "metadata": {},
     "output_type": "display_data"
    }
   ],
   "source": [
    "from sklearn.metrics import RocCurveDisplay\n",
    "\n",
    "RocCurveDisplay.from_predictions(\n",
    "    y_pred,\n",
    "    y_test,\n",
    "    name=f\"Chance of heart disease detection\",\n",
    "    color=\"darkorange\",\n",
    "    plot_chance_level=True)\n",
    "   "
   ]
  },
  {
   "cell_type": "code",
   "execution_count": 149,
   "metadata": {},
   "outputs": [
    {
     "name": "stdout",
     "output_type": "stream",
     "text": [
      "{'learn': {'Accuracy:use_weights=true': 1.0, 'Logloss': 0.00011328639176509004, 'Accuracy:use_weights=false': 0.093075}, 'validation': {'Accuracy:use_weights=true': 1.0, 'Logloss': 0.0001043303609036875, 'Accuracy:use_weights=false': 0.09375, 'AUC': 0.8626840971930243}}\n"
     ]
    }
   ],
   "source": [
    "print(model.get_best_score())"
   ]
  },
  {
   "cell_type": "code",
   "execution_count": 150,
   "metadata": {},
   "outputs": [
    {
     "data": {
      "image/png": "[encoded data removed]",
      "text/plain": [
       "<Figure size 800x470 with 2 Axes>"
      ]
     },
     "metadata": {},
     "output_type": "display_data"
    }
   ],
   "source": [
    "explainer = shap.TreeExplainer(model)\n",
    "shap_values = explainer.shap_values(X)\n",
    "shap.summary_plot(shap_values, X)"
   ]
  },
  {
   "cell_type": "markdown",
   "metadata": {},
   "source": [
    "Notes over SHAP:\n",
    " - ST_Slope, ChestPainType and ExerciseAngina can produce equally positive and negative impacts in the model results.\n",
    " - Cholesterol impacts more positivelly in the model, meaning that when the cholesterol it's high, it impacts, but when its low, compared to the others, its a lesser impact.\n"
   ]
  },
  {
   "cell_type": "markdown",
   "metadata": {},
   "source": [
    "<b>Conclusion:</b>\n",
    "\n",
    "The heart disease classification project using CatBoost revealed promising results. Feature importance analysis highlighted the importance of features such as ST_Slope, ChestPainType, ExerciseAngina and Cholesterol in predicting heart disease. These findings provide valuable insights to guide clinical assessment and patient awareness. With an accuracy of approximately 86.41% and an AUC-ROC of approximately 0.92754, the model demonstrates high performance in identifying cardiac cases. These metrics, along with feature interpretation, highlight the model's potential as a valuable tool to assist healthcare professionals in the early detection and treatment of heart disease."
   ]
  },
  {
   "cell_type": "markdown",
   "metadata": {},
   "source": [
    "___"
   ]
  },
  {
   "cell_type": "code",
   "execution_count": 179,
   "metadata": {},
   "outputs": [],
   "source": [
    "\n",
    "X_enc = df_encoded.drop('diabetes', axis = 1)\n",
    "y_enc = df_encoded['diabetes']\n",
    "\n",
    "X_train_enc, X_test_enc, y_train_enc, y_test_enc = train_test_split(X_enc, y_enc, test_size=0.2, random_state=42)"
   ]
  },
  {
   "cell_type": "code",
   "execution_count": 181,
   "metadata": {},
   "outputs": [
    {
     "data": {
      "application/vnd.jupyter.widget-view+json": {
       "model_id": "cad77491967b4f74ac9f37d281c7676a",
       "version_major": 2,
       "version_minor": 0
      },
      "text/plain": [
       "MetricVisualizer(layout=Layout(align_self='stretch', height='500px'))"
      ]
     },
     "metadata": {},
     "output_type": "display_data"
    },
    {
     "name": "stdout",
     "output_type": "stream",
     "text": [
      "0:\tlearn: 0.6468490\ttest: 0.6469028\tbest: 0.6469028 (0)\ttotal: 41.7ms\tremaining: 8.29s\n",
      "1:\tlearn: 0.6053518\ttest: 0.6054547\tbest: 0.6054547 (1)\ttotal: 70.3ms\tremaining: 6.96s\n",
      "2:\tlearn: 0.5632458\ttest: 0.5633608\tbest: 0.5633608 (2)\ttotal: 120ms\tremaining: 7.87s\n",
      "3:\tlearn: 0.5243308\ttest: 0.5244149\tbest: 0.5244149 (3)\ttotal: 162ms\tremaining: 7.92s\n",
      "4:\tlearn: 0.4890450\ttest: 0.4889589\tbest: 0.4889589 (4)\ttotal: 198ms\tremaining: 7.7s\n",
      "5:\tlearn: 0.4577560\ttest: 0.4577312\tbest: 0.4577312 (5)\ttotal: 222ms\tremaining: 7.17s\n",
      "6:\tlearn: 0.4266876\ttest: 0.4266287\tbest: 0.4266287 (6)\ttotal: 236ms\tremaining: 6.5s\n",
      "7:\tlearn: 0.3967828\ttest: 0.3966739\tbest: 0.3966739 (7)\ttotal: 254ms\tremaining: 6.1s\n",
      "8:\tlearn: 0.3703235\ttest: 0.3702095\tbest: 0.3702095 (8)\ttotal: 329ms\tremaining: 6.98s\n",
      "9:\tlearn: 0.3441693\ttest: 0.3440326\tbest: 0.3440326 (9)\ttotal: 355ms\tremaining: 6.75s\n",
      "10:\tlearn: 0.3194071\ttest: 0.3192489\tbest: 0.3192489 (10)\ttotal: 390ms\tremaining: 6.7s\n",
      "11:\tlearn: 0.2965002\ttest: 0.2963516\tbest: 0.2963516 (11)\ttotal: 403ms\tremaining: 6.32s\n",
      "12:\tlearn: 0.2767749\ttest: 0.2766100\tbest: 0.2766100 (12)\ttotal: 419ms\tremaining: 6.03s\n",
      "13:\tlearn: 0.2559238\ttest: 0.2557066\tbest: 0.2557066 (13)\ttotal: 433ms\tremaining: 5.75s\n",
      "14:\tlearn: 0.2379670\ttest: 0.2376690\tbest: 0.2376690 (14)\ttotal: 453ms\tremaining: 5.59s\n",
      "15:\tlearn: 0.2221973\ttest: 0.2218788\tbest: 0.2218788 (15)\ttotal: 478ms\tremaining: 5.49s\n",
      "16:\tlearn: 0.2066855\ttest: 0.2063911\tbest: 0.2063911 (16)\ttotal: 507ms\tremaining: 5.46s\n",
      "17:\tlearn: 0.1918651\ttest: 0.1915688\tbest: 0.1915688 (17)\ttotal: 523ms\tremaining: 5.29s\n",
      "18:\tlearn: 0.1779068\ttest: 0.1776398\tbest: 0.1776398 (18)\ttotal: 539ms\tremaining: 5.13s\n",
      "19:\tlearn: 0.1656356\ttest: 0.1653612\tbest: 0.1653612 (19)\ttotal: 558ms\tremaining: 5.02s\n",
      "20:\tlearn: 0.1538357\ttest: 0.1535804\tbest: 0.1535804 (20)\ttotal: 577ms\tremaining: 4.92s\n",
      "21:\tlearn: 0.1432498\ttest: 0.1429760\tbest: 0.1429760 (21)\ttotal: 592ms\tremaining: 4.79s\n",
      "22:\tlearn: 0.1343443\ttest: 0.1340896\tbest: 0.1340896 (22)\ttotal: 607ms\tremaining: 4.67s\n",
      "23:\tlearn: 0.1253821\ttest: 0.1251443\tbest: 0.1251443 (23)\ttotal: 623ms\tremaining: 4.57s\n",
      "24:\tlearn: 0.1168088\ttest: 0.1165739\tbest: 0.1165739 (24)\ttotal: 638ms\tremaining: 4.47s\n",
      "25:\tlearn: 0.1090944\ttest: 0.1088835\tbest: 0.1088835 (25)\ttotal: 656ms\tremaining: 4.39s\n",
      "26:\tlearn: 0.1011671\ttest: 0.1009617\tbest: 0.1009617 (26)\ttotal: 685ms\tremaining: 4.39s\n",
      "27:\tlearn: 0.0936370\ttest: 0.0934288\tbest: 0.0934288 (27)\ttotal: 703ms\tremaining: 4.32s\n",
      "28:\tlearn: 0.0876905\ttest: 0.0874679\tbest: 0.0874679 (28)\ttotal: 721ms\tremaining: 4.25s\n",
      "29:\tlearn: 0.0812935\ttest: 0.0810659\tbest: 0.0810659 (29)\ttotal: 736ms\tremaining: 4.17s\n",
      "30:\tlearn: 0.0763439\ttest: 0.0761318\tbest: 0.0761318 (30)\ttotal: 753ms\tremaining: 4.11s\n",
      "31:\tlearn: 0.0719451\ttest: 0.0717466\tbest: 0.0717466 (31)\ttotal: 774ms\tremaining: 4.06s\n",
      "32:\tlearn: 0.0674860\ttest: 0.0673254\tbest: 0.0673254 (32)\ttotal: 790ms\tremaining: 4s\n",
      "33:\tlearn: 0.0627695\ttest: 0.0626321\tbest: 0.0626321 (33)\ttotal: 804ms\tremaining: 3.93s\n",
      "34:\tlearn: 0.0591166\ttest: 0.0589736\tbest: 0.0589736 (34)\ttotal: 819ms\tremaining: 3.86s\n",
      "35:\tlearn: 0.0554782\ttest: 0.0553409\tbest: 0.0553409 (35)\ttotal: 834ms\tremaining: 3.8s\n",
      "36:\tlearn: 0.0517320\ttest: 0.0515992\tbest: 0.0515992 (36)\ttotal: 850ms\tremaining: 3.74s\n",
      "37:\tlearn: 0.0485343\ttest: 0.0484045\tbest: 0.0484045 (37)\ttotal: 870ms\tremaining: 3.71s\n",
      "38:\tlearn: 0.0455512\ttest: 0.0454132\tbest: 0.0454132 (38)\ttotal: 931ms\tremaining: 3.84s\n",
      "39:\tlearn: 0.0428120\ttest: 0.0426840\tbest: 0.0426840 (39)\ttotal: 965ms\tremaining: 3.86s\n",
      "40:\tlearn: 0.0400155\ttest: 0.0398895\tbest: 0.0398895 (40)\ttotal: 1s\tremaining: 3.88s\n",
      "41:\tlearn: 0.0375979\ttest: 0.0374821\tbest: 0.0374821 (41)\ttotal: 1.03s\tremaining: 3.89s\n",
      "42:\tlearn: 0.0353782\ttest: 0.0352674\tbest: 0.0352674 (42)\ttotal: 1.06s\tremaining: 3.86s\n",
      "43:\tlearn: 0.0333299\ttest: 0.0332157\tbest: 0.0332157 (43)\ttotal: 1.08s\tremaining: 3.82s\n",
      "44:\tlearn: 0.0315841\ttest: 0.0314788\tbest: 0.0314788 (44)\ttotal: 1.1s\tremaining: 3.8s\n",
      "45:\tlearn: 0.0295844\ttest: 0.0294814\tbest: 0.0294814 (45)\ttotal: 1.12s\tremaining: 3.74s\n",
      "46:\tlearn: 0.0278263\ttest: 0.0277127\tbest: 0.0277127 (46)\ttotal: 1.13s\tremaining: 3.69s\n",
      "47:\tlearn: 0.0261873\ttest: 0.0260859\tbest: 0.0260859 (47)\ttotal: 1.15s\tremaining: 3.64s\n",
      "48:\tlearn: 0.0247523\ttest: 0.0246576\tbest: 0.0246576 (48)\ttotal: 1.16s\tremaining: 3.59s\n",
      "49:\tlearn: 0.0233272\ttest: 0.0232349\tbest: 0.0232349 (49)\ttotal: 1.18s\tremaining: 3.55s\n",
      "50:\tlearn: 0.0219191\ttest: 0.0218249\tbest: 0.0218249 (50)\ttotal: 1.2s\tremaining: 3.5s\n",
      "51:\tlearn: 0.0205705\ttest: 0.0204806\tbest: 0.0204806 (51)\ttotal: 1.21s\tremaining: 3.45s\n",
      "52:\tlearn: 0.0195093\ttest: 0.0194236\tbest: 0.0194236 (52)\ttotal: 1.23s\tremaining: 3.41s\n",
      "53:\tlearn: 0.0185078\ttest: 0.0184265\tbest: 0.0184265 (53)\ttotal: 1.24s\tremaining: 3.36s\n",
      "54:\tlearn: 0.0175543\ttest: 0.0174766\tbest: 0.0174766 (54)\ttotal: 1.26s\tremaining: 3.32s\n",
      "55:\tlearn: 0.0166942\ttest: 0.0166180\tbest: 0.0166180 (55)\ttotal: 1.28s\tremaining: 3.3s\n",
      "56:\tlearn: 0.0158729\ttest: 0.0158042\tbest: 0.0158042 (56)\ttotal: 1.32s\tremaining: 3.31s\n",
      "57:\tlearn: 0.0150616\ttest: 0.0149919\tbest: 0.0149919 (57)\ttotal: 1.47s\tremaining: 3.59s\n",
      "58:\tlearn: 0.0143195\ttest: 0.0142519\tbest: 0.0142519 (58)\ttotal: 1.54s\tremaining: 3.67s\n",
      "59:\tlearn: 0.0136612\ttest: 0.0136030\tbest: 0.0136030 (59)\ttotal: 1.6s\tremaining: 3.72s\n",
      "60:\tlearn: 0.0130643\ttest: 0.0130110\tbest: 0.0130110 (60)\ttotal: 1.62s\tremaining: 3.69s\n",
      "61:\tlearn: 0.0123911\ttest: 0.0123372\tbest: 0.0123372 (61)\ttotal: 1.63s\tremaining: 3.63s\n",
      "62:\tlearn: 0.0117083\ttest: 0.0116563\tbest: 0.0116563 (62)\ttotal: 1.65s\tremaining: 3.58s\n",
      "63:\tlearn: 0.0111287\ttest: 0.0110853\tbest: 0.0110853 (63)\ttotal: 1.66s\tremaining: 3.54s\n",
      "64:\tlearn: 0.0105353\ttest: 0.0104903\tbest: 0.0104903 (64)\ttotal: 1.68s\tremaining: 3.49s\n",
      "65:\tlearn: 0.0100434\ttest: 0.0099992\tbest: 0.0099992 (65)\ttotal: 1.73s\tremaining: 3.52s\n",
      "66:\tlearn: 0.0095543\ttest: 0.0095090\tbest: 0.0095090 (66)\ttotal: 1.92s\tremaining: 3.81s\n",
      "67:\tlearn: 0.0091156\ttest: 0.0090740\tbest: 0.0090740 (67)\ttotal: 1.96s\tremaining: 3.81s\n",
      "68:\tlearn: 0.0086206\ttest: 0.0085805\tbest: 0.0085805 (68)\ttotal: 2s\tremaining: 3.79s\n",
      "69:\tlearn: 0.0082339\ttest: 0.0081935\tbest: 0.0081935 (69)\ttotal: 2.05s\tremaining: 3.81s\n",
      "70:\tlearn: 0.0078429\ttest: 0.0077991\tbest: 0.0077991 (70)\ttotal: 2.1s\tremaining: 3.82s\n",
      "71:\tlearn: 0.0075251\ttest: 0.0074834\tbest: 0.0074834 (71)\ttotal: 2.15s\tremaining: 3.82s\n",
      "72:\tlearn: 0.0071889\ttest: 0.0071483\tbest: 0.0071483 (72)\ttotal: 2.19s\tremaining: 3.81s\n",
      "73:\tlearn: 0.0068449\ttest: 0.0068045\tbest: 0.0068045 (73)\ttotal: 2.22s\tremaining: 3.78s\n",
      "74:\tlearn: 0.0065459\ttest: 0.0065039\tbest: 0.0065039 (74)\ttotal: 2.34s\tremaining: 3.9s\n",
      "75:\tlearn: 0.0062079\ttest: 0.0061683\tbest: 0.0061683 (75)\ttotal: 2.38s\tremaining: 3.89s\n",
      "76:\tlearn: 0.0059563\ttest: 0.0059164\tbest: 0.0059164 (76)\ttotal: 2.41s\tremaining: 3.84s\n",
      "77:\tlearn: 0.0057241\ttest: 0.0056847\tbest: 0.0056847 (77)\ttotal: 2.42s\tremaining: 3.79s\n",
      "78:\tlearn: 0.0055085\ttest: 0.0054699\tbest: 0.0054699 (78)\ttotal: 2.45s\tremaining: 3.75s\n",
      "79:\tlearn: 0.0052535\ttest: 0.0052146\tbest: 0.0052146 (79)\ttotal: 2.47s\tremaining: 3.71s\n",
      "80:\tlearn: 0.0050171\ttest: 0.0049778\tbest: 0.0049778 (80)\ttotal: 2.49s\tremaining: 3.66s\n",
      "81:\tlearn: 0.0048268\ttest: 0.0047871\tbest: 0.0047871 (81)\ttotal: 2.5s\tremaining: 3.6s\n",
      "82:\tlearn: 0.0046034\ttest: 0.0045644\tbest: 0.0045644 (82)\ttotal: 2.52s\tremaining: 3.55s\n",
      "83:\tlearn: 0.0044165\ttest: 0.0043773\tbest: 0.0043773 (83)\ttotal: 2.53s\tremaining: 3.5s\n",
      "84:\tlearn: 0.0042459\ttest: 0.0042083\tbest: 0.0042083 (84)\ttotal: 2.55s\tremaining: 3.45s\n",
      "85:\tlearn: 0.0040891\ttest: 0.0040532\tbest: 0.0040532 (85)\ttotal: 2.57s\tremaining: 3.41s\n",
      "86:\tlearn: 0.0039317\ttest: 0.0038966\tbest: 0.0038966 (86)\ttotal: 2.59s\tremaining: 3.37s\n",
      "87:\tlearn: 0.0037494\ttest: 0.0037152\tbest: 0.0037152 (87)\ttotal: 2.62s\tremaining: 3.33s\n",
      "88:\tlearn: 0.0035988\ttest: 0.0035672\tbest: 0.0035672 (88)\ttotal: 2.64s\tremaining: 3.29s\n",
      "89:\tlearn: 0.0034255\ttest: 0.0033933\tbest: 0.0033933 (89)\ttotal: 2.66s\tremaining: 3.25s\n",
      "90:\tlearn: 0.0032818\ttest: 0.0032504\tbest: 0.0032504 (90)\ttotal: 2.68s\tremaining: 3.21s\n",
      "91:\tlearn: 0.0031492\ttest: 0.0031176\tbest: 0.0031176 (91)\ttotal: 2.7s\tremaining: 3.17s\n",
      "92:\tlearn: 0.0030120\ttest: 0.0029804\tbest: 0.0029804 (92)\ttotal: 2.73s\tremaining: 3.14s\n",
      "93:\tlearn: 0.0029002\ttest: 0.0028695\tbest: 0.0028695 (93)\ttotal: 2.76s\tremaining: 3.11s\n",
      "94:\tlearn: 0.0027868\ttest: 0.0027561\tbest: 0.0027561 (94)\ttotal: 2.79s\tremaining: 3.08s\n",
      "95:\tlearn: 0.0026702\ttest: 0.0026401\tbest: 0.0026401 (95)\ttotal: 2.83s\tremaining: 3.07s\n",
      "96:\tlearn: 0.0025726\ttest: 0.0025429\tbest: 0.0025429 (96)\ttotal: 2.87s\tremaining: 3.05s\n",
      "97:\tlearn: 0.0024724\ttest: 0.0024429\tbest: 0.0024429 (97)\ttotal: 2.89s\tremaining: 3.01s\n",
      "98:\tlearn: 0.0023809\ttest: 0.0023508\tbest: 0.0023508 (98)\ttotal: 2.91s\tremaining: 2.97s\n",
      "99:\tlearn: 0.0022860\ttest: 0.0022564\tbest: 0.0022564 (99)\ttotal: 2.94s\tremaining: 2.94s\n",
      "100:\tlearn: 0.0021975\ttest: 0.0021683\tbest: 0.0021683 (100)\ttotal: 2.97s\tremaining: 2.91s\n",
      "101:\tlearn: 0.0021227\ttest: 0.0020940\tbest: 0.0020940 (101)\ttotal: 2.99s\tremaining: 2.87s\n",
      "102:\tlearn: 0.0020379\ttest: 0.0020086\tbest: 0.0020086 (102)\ttotal: 3.02s\tremaining: 2.84s\n",
      "103:\tlearn: 0.0019465\ttest: 0.0019172\tbest: 0.0019172 (103)\ttotal: 3.04s\tremaining: 2.81s\n",
      "104:\tlearn: 0.0018779\ttest: 0.0018487\tbest: 0.0018487 (104)\ttotal: 3.09s\tremaining: 2.79s\n",
      "105:\tlearn: 0.0018253\ttest: 0.0017963\tbest: 0.0017963 (105)\ttotal: 3.11s\tremaining: 2.76s\n",
      "106:\tlearn: 0.0017744\ttest: 0.0017456\tbest: 0.0017456 (106)\ttotal: 3.13s\tremaining: 2.72s\n",
      "107:\tlearn: 0.0017181\ttest: 0.0016895\tbest: 0.0016895 (107)\ttotal: 3.15s\tremaining: 2.68s\n",
      "108:\tlearn: 0.0016499\ttest: 0.0016218\tbest: 0.0016218 (108)\ttotal: 3.17s\tremaining: 2.65s\n",
      "109:\tlearn: 0.0015981\ttest: 0.0015701\tbest: 0.0015701 (109)\ttotal: 3.19s\tremaining: 2.61s\n",
      "110:\tlearn: 0.0015560\ttest: 0.0015283\tbest: 0.0015283 (110)\ttotal: 3.21s\tremaining: 2.57s\n",
      "111:\tlearn: 0.0014971\ttest: 0.0014697\tbest: 0.0014697 (111)\ttotal: 3.25s\tremaining: 2.56s\n",
      "112:\tlearn: 0.0014561\ttest: 0.0014293\tbest: 0.0014293 (112)\ttotal: 3.29s\tremaining: 2.53s\n",
      "113:\tlearn: 0.0014096\ttest: 0.0013825\tbest: 0.0013825 (113)\ttotal: 3.33s\tremaining: 2.51s\n",
      "114:\tlearn: 0.0013559\ttest: 0.0013292\tbest: 0.0013292 (114)\ttotal: 3.35s\tremaining: 2.48s\n",
      "115:\tlearn: 0.0013070\ttest: 0.0012807\tbest: 0.0012807 (115)\ttotal: 3.37s\tremaining: 2.44s\n",
      "116:\tlearn: 0.0012668\ttest: 0.0012405\tbest: 0.0012405 (116)\ttotal: 3.39s\tremaining: 2.41s\n",
      "117:\tlearn: 0.0012237\ttest: 0.0011975\tbest: 0.0011975 (117)\ttotal: 3.41s\tremaining: 2.37s\n",
      "118:\tlearn: 0.0011851\ttest: 0.0011590\tbest: 0.0011590 (118)\ttotal: 3.43s\tremaining: 2.34s\n",
      "119:\tlearn: 0.0011519\ttest: 0.0011263\tbest: 0.0011263 (119)\ttotal: 3.46s\tremaining: 2.31s\n",
      "120:\tlearn: 0.0011292\ttest: 0.0011037\tbest: 0.0011037 (120)\ttotal: 3.49s\tremaining: 2.28s\n",
      "121:\tlearn: 0.0010944\ttest: 0.0010688\tbest: 0.0010688 (121)\ttotal: 3.51s\tremaining: 2.24s\n",
      "122:\tlearn: 0.0010617\ttest: 0.0010361\tbest: 0.0010361 (122)\ttotal: 3.52s\tremaining: 2.21s\n",
      "123:\tlearn: 0.0010308\ttest: 0.0010054\tbest: 0.0010054 (123)\ttotal: 3.54s\tremaining: 2.17s\n",
      "124:\tlearn: 0.0010040\ttest: 0.0009788\tbest: 0.0009788 (124)\ttotal: 3.55s\tremaining: 2.13s\n",
      "125:\tlearn: 0.0009764\ttest: 0.0009512\tbest: 0.0009512 (125)\ttotal: 3.56s\tremaining: 2.09s\n",
      "126:\tlearn: 0.0009409\ttest: 0.0009159\tbest: 0.0009159 (126)\ttotal: 3.58s\tremaining: 2.06s\n",
      "127:\tlearn: 0.0009228\ttest: 0.0008977\tbest: 0.0008977 (127)\ttotal: 3.59s\tremaining: 2.02s\n",
      "128:\tlearn: 0.0008978\ttest: 0.0008731\tbest: 0.0008731 (128)\ttotal: 3.6s\tremaining: 1.98s\n",
      "129:\tlearn: 0.0008800\ttest: 0.0008550\tbest: 0.0008550 (129)\ttotal: 3.61s\tremaining: 1.95s\n",
      "130:\tlearn: 0.0008555\ttest: 0.0008307\tbest: 0.0008307 (130)\ttotal: 3.63s\tremaining: 1.91s\n",
      "131:\tlearn: 0.0008338\ttest: 0.0008094\tbest: 0.0008094 (131)\ttotal: 3.64s\tremaining: 1.88s\n",
      "132:\tlearn: 0.0008164\ttest: 0.0007922\tbest: 0.0007922 (132)\ttotal: 3.65s\tremaining: 1.84s\n",
      "133:\tlearn: 0.0007943\ttest: 0.0007703\tbest: 0.0007703 (133)\ttotal: 3.67s\tremaining: 1.81s\n",
      "134:\tlearn: 0.0007777\ttest: 0.0007536\tbest: 0.0007536 (134)\ttotal: 3.69s\tremaining: 1.77s\n",
      "135:\tlearn: 0.0007611\ttest: 0.0007372\tbest: 0.0007372 (135)\ttotal: 3.7s\tremaining: 1.74s\n",
      "136:\tlearn: 0.0007426\ttest: 0.0007188\tbest: 0.0007188 (136)\ttotal: 3.72s\tremaining: 1.71s\n",
      "137:\tlearn: 0.0007202\ttest: 0.0006967\tbest: 0.0006967 (137)\ttotal: 3.74s\tremaining: 1.68s\n",
      "138:\tlearn: 0.0007006\ttest: 0.0006771\tbest: 0.0006771 (138)\ttotal: 3.75s\tremaining: 1.65s\n",
      "139:\tlearn: 0.0006805\ttest: 0.0006569\tbest: 0.0006569 (139)\ttotal: 3.77s\tremaining: 1.62s\n",
      "140:\tlearn: 0.0006626\ttest: 0.0006392\tbest: 0.0006392 (140)\ttotal: 3.79s\tremaining: 1.58s\n",
      "141:\tlearn: 0.0006478\ttest: 0.0006247\tbest: 0.0006247 (141)\ttotal: 3.81s\tremaining: 1.55s\n",
      "142:\tlearn: 0.0006349\ttest: 0.0006119\tbest: 0.0006119 (142)\ttotal: 3.82s\tremaining: 1.52s\n",
      "143:\tlearn: 0.0006245\ttest: 0.0006016\tbest: 0.0006016 (143)\ttotal: 3.84s\tremaining: 1.49s\n",
      "144:\tlearn: 0.0006110\ttest: 0.0005882\tbest: 0.0005882 (144)\ttotal: 3.85s\tremaining: 1.46s\n",
      "145:\tlearn: 0.0005989\ttest: 0.0005763\tbest: 0.0005763 (145)\ttotal: 3.87s\tremaining: 1.43s\n",
      "146:\tlearn: 0.0005829\ttest: 0.0005605\tbest: 0.0005605 (146)\ttotal: 3.89s\tremaining: 1.4s\n",
      "147:\tlearn: 0.0005714\ttest: 0.0005489\tbest: 0.0005489 (147)\ttotal: 3.9s\tremaining: 1.37s\n",
      "148:\tlearn: 0.0005599\ttest: 0.0005376\tbest: 0.0005376 (148)\ttotal: 3.92s\tremaining: 1.34s\n",
      "149:\tlearn: 0.0005490\ttest: 0.0005267\tbest: 0.0005267 (149)\ttotal: 3.93s\tremaining: 1.31s\n",
      "150:\tlearn: 0.0005401\ttest: 0.0005179\tbest: 0.0005179 (150)\ttotal: 3.95s\tremaining: 1.28s\n",
      "151:\tlearn: 0.0005317\ttest: 0.0005095\tbest: 0.0005095 (151)\ttotal: 3.96s\tremaining: 1.25s\n",
      "152:\tlearn: 0.0005186\ttest: 0.0004966\tbest: 0.0004966 (152)\ttotal: 3.97s\tremaining: 1.22s\n",
      "153:\tlearn: 0.0005079\ttest: 0.0004861\tbest: 0.0004861 (153)\ttotal: 3.98s\tremaining: 1.19s\n",
      "154:\tlearn: 0.0004967\ttest: 0.0004752\tbest: 0.0004752 (154)\ttotal: 4s\tremaining: 1.16s\n",
      "155:\tlearn: 0.0004842\ttest: 0.0004630\tbest: 0.0004630 (155)\ttotal: 4.01s\tremaining: 1.13s\n",
      "156:\tlearn: 0.0004747\ttest: 0.0004536\tbest: 0.0004536 (156)\ttotal: 4.03s\tremaining: 1.1s\n",
      "157:\tlearn: 0.0004643\ttest: 0.0004433\tbest: 0.0004433 (157)\ttotal: 4.04s\tremaining: 1.07s\n",
      "158:\tlearn: 0.0004554\ttest: 0.0004345\tbest: 0.0004345 (158)\ttotal: 4.05s\tremaining: 1.04s\n",
      "159:\tlearn: 0.0004465\ttest: 0.0004257\tbest: 0.0004257 (159)\ttotal: 4.07s\tremaining: 1.02s\n",
      "160:\tlearn: 0.0004366\ttest: 0.0004161\tbest: 0.0004161 (160)\ttotal: 4.08s\tremaining: 989ms\n",
      "161:\tlearn: 0.0004263\ttest: 0.0004059\tbest: 0.0004059 (161)\ttotal: 4.1s\tremaining: 961ms\n",
      "162:\tlearn: 0.0004166\ttest: 0.0003964\tbest: 0.0003964 (162)\ttotal: 4.12s\tremaining: 935ms\n",
      "163:\tlearn: 0.0004074\ttest: 0.0003872\tbest: 0.0003872 (163)\ttotal: 4.14s\tremaining: 908ms\n",
      "164:\tlearn: 0.0003995\ttest: 0.0003793\tbest: 0.0003793 (164)\ttotal: 4.15s\tremaining: 881ms\n",
      "165:\tlearn: 0.0003926\ttest: 0.0003726\tbest: 0.0003726 (165)\ttotal: 4.16s\tremaining: 853ms\n",
      "166:\tlearn: 0.0003862\ttest: 0.0003663\tbest: 0.0003663 (166)\ttotal: 4.22s\tremaining: 834ms\n",
      "167:\tlearn: 0.0003803\ttest: 0.0003604\tbest: 0.0003604 (167)\ttotal: 4.25s\tremaining: 810ms\n",
      "168:\tlearn: 0.0003745\ttest: 0.0003547\tbest: 0.0003547 (168)\ttotal: 4.26s\tremaining: 782ms\n",
      "169:\tlearn: 0.0003687\ttest: 0.0003489\tbest: 0.0003489 (169)\ttotal: 4.28s\tremaining: 755ms\n",
      "170:\tlearn: 0.0003605\ttest: 0.0003410\tbest: 0.0003410 (170)\ttotal: 4.29s\tremaining: 728ms\n",
      "171:\tlearn: 0.0003565\ttest: 0.0003370\tbest: 0.0003370 (171)\ttotal: 4.31s\tremaining: 701ms\n",
      "172:\tlearn: 0.0003518\ttest: 0.0003324\tbest: 0.0003324 (172)\ttotal: 4.33s\tremaining: 676ms\n",
      "173:\tlearn: 0.0003450\ttest: 0.0003257\tbest: 0.0003257 (173)\ttotal: 4.36s\tremaining: 652ms\n",
      "174:\tlearn: 0.0003410\ttest: 0.0003218\tbest: 0.0003218 (174)\ttotal: 4.39s\tremaining: 628ms\n",
      "175:\tlearn: 0.0003331\ttest: 0.0003141\tbest: 0.0003141 (175)\ttotal: 4.52s\tremaining: 617ms\n",
      "176:\tlearn: 0.0003282\ttest: 0.0003093\tbest: 0.0003093 (176)\ttotal: 4.54s\tremaining: 590ms\n",
      "177:\tlearn: 0.0003234\ttest: 0.0003046\tbest: 0.0003046 (177)\ttotal: 4.57s\tremaining: 565ms\n",
      "178:\tlearn: 0.0003187\ttest: 0.0003000\tbest: 0.0003000 (178)\ttotal: 4.61s\tremaining: 541ms\n",
      "179:\tlearn: 0.0003144\ttest: 0.0002958\tbest: 0.0002958 (179)\ttotal: 4.63s\tremaining: 514ms\n",
      "180:\tlearn: 0.0003091\ttest: 0.0002906\tbest: 0.0002906 (180)\ttotal: 4.66s\tremaining: 489ms\n",
      "181:\tlearn: 0.0003044\ttest: 0.0002860\tbest: 0.0002860 (181)\ttotal: 4.7s\tremaining: 464ms\n",
      "182:\tlearn: 0.0003007\ttest: 0.0002824\tbest: 0.0002824 (182)\ttotal: 4.72s\tremaining: 438ms\n",
      "183:\tlearn: 0.0002964\ttest: 0.0002781\tbest: 0.0002781 (183)\ttotal: 4.74s\tremaining: 412ms\n",
      "184:\tlearn: 0.0002912\ttest: 0.0002730\tbest: 0.0002730 (184)\ttotal: 4.76s\tremaining: 386ms\n",
      "185:\tlearn: 0.0002853\ttest: 0.0002672\tbest: 0.0002672 (185)\ttotal: 4.79s\tremaining: 360ms\n",
      "186:\tlearn: 0.0002805\ttest: 0.0002626\tbest: 0.0002626 (186)\ttotal: 4.83s\tremaining: 336ms\n",
      "187:\tlearn: 0.0002760\ttest: 0.0002582\tbest: 0.0002582 (187)\ttotal: 4.86s\tremaining: 310ms\n",
      "188:\tlearn: 0.0002717\ttest: 0.0002540\tbest: 0.0002540 (188)\ttotal: 4.87s\tremaining: 284ms\n",
      "189:\tlearn: 0.0002688\ttest: 0.0002512\tbest: 0.0002512 (189)\ttotal: 4.89s\tremaining: 257ms\n",
      "190:\tlearn: 0.0002640\ttest: 0.0002465\tbest: 0.0002465 (190)\ttotal: 4.94s\tremaining: 233ms\n",
      "191:\tlearn: 0.0002600\ttest: 0.0002427\tbest: 0.0002427 (191)\ttotal: 4.98s\tremaining: 208ms\n",
      "192:\tlearn: 0.0002581\ttest: 0.0002408\tbest: 0.0002408 (192)\ttotal: 5.06s\tremaining: 184ms\n",
      "193:\tlearn: 0.0002532\ttest: 0.0002360\tbest: 0.0002360 (193)\ttotal: 5.13s\tremaining: 159ms\n",
      "194:\tlearn: 0.0002514\ttest: 0.0002342\tbest: 0.0002342 (194)\ttotal: 5.17s\tremaining: 132ms\n",
      "195:\tlearn: 0.0002482\ttest: 0.0002311\tbest: 0.0002311 (195)\ttotal: 5.2s\tremaining: 106ms\n",
      "196:\tlearn: 0.0002431\ttest: 0.0002261\tbest: 0.0002261 (196)\ttotal: 5.22s\tremaining: 79.4ms\n",
      "197:\tlearn: 0.0002404\ttest: 0.0002235\tbest: 0.0002235 (197)\ttotal: 5.23s\tremaining: 52.8ms\n",
      "198:\tlearn: 0.0002365\ttest: 0.0002197\tbest: 0.0002197 (198)\ttotal: 5.24s\tremaining: 26.3ms\n",
      "199:\tlearn: 0.0002340\ttest: 0.0002173\tbest: 0.0002173 (199)\ttotal: 5.25s\tremaining: 0us\n",
      "\n",
      "bestTest = 0.0002173064662\n",
      "bestIteration = 199\n",
      "\n"
     ]
    },
    {
     "data": {
      "text/plain": [
       "<catboost.core.CatBoostClassifier at 0x7f8256b612e0>"
      ]
     },
     "execution_count": 181,
     "metadata": {},
     "output_type": "execute_result"
    }
   ],
   "source": [
    "model_encoded = CatBoostClassifier(iterations=200, \n",
    "                           depth=5, \n",
    "                           learning_rate=0.01, \n",
    "                           early_stopping_rounds=10,\n",
    "                           random_seed=42,\n",
    "                           custom_loss=['AUC', 'Accuracy'],\n",
    "                           #scale_pos_weight=11,\n",
    "                           #class_weights=class_weights,\n",
    "                           class_weights={0: 0, 1: 11}\n",
    "                           #auto_class_weights = ['balanced']\n",
    "                           )\n",
    "\n",
    "model_encoded.fit(\n",
    "    X_train_enc, \n",
    "    y_train_enc,\n",
    "    eval_set=(X_test_enc, y_test_enc),\n",
    "    verbose=True,\n",
    "    plot=True\n",
    "    )"
   ]
  },
  {
   "cell_type": "code",
   "execution_count": null,
   "metadata": {},
   "outputs": [],
   "source": [
    "y_pred_enc = model.predict(X_test)\n",
    "\n",
    "metrics_df_enc = pd.DataFrame(columns=['Accuracy', 'F1-Score', 'Recall', 'Precision', 'AUC-ROC'])\n",
    "\n",
    "y_pred = model_encoded.predict(X_test)\n",
    "y_prob = model.predict_proba(X_test)[:, 1] \n",
    "\n",
    "accuracy = accuracy_score(y_test, y_pred)\n",
    "f1 = f1_score(y_test, y_pred)\n",
    "recall = recall_score(y_test, y_pred)\n",
    "precision = precision_score(y_test, y_pred, zero_division = np.nan)\n",
    "auc_roc = roc_auc_score(y_test, y_prob)\n",
    "metrics_df = metrics_df._append({\n",
    "    'Accuracy': accuracy,\n",
    "    'F1-Score': f1,\n",
    "    'Recall': recall,\n",
    "    'Precision': precision,\n",
    "    'AUC-ROC': auc_roc}, ignore_index=True)\n",
    "\n",
    "metrics_df"
   ]
  }
 ],
 "metadata": {
  "kernelspec": {
   "display_name": "data-science",
   "language": "python",
   "name": "python3"
  },
  "language_info": {
   "codemirror_mode": {
    "name": "ipython",
    "version": 3
   },
   "file_extension": ".py",
   "mimetype": "text/x-python",
   "name": "python",
   "nbconvert_exporter": "python",
   "pygments_lexer": "ipython3",
   "version": "3.9.0"
  }
 },
 "nbformat": 4,
 "nbformat_minor": 2
}
